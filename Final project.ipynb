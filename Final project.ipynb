{
 "cells": [
  {
   "cell_type": "code",
   "execution_count": 311,
   "metadata": {},
   "outputs": [],
   "source": [
    "import numpy as np\n",
    "import matplotlib.pyplot as plt\n",
    "import pandas as pd\n",
    "import seaborn as sn\n",
    "import keras\n",
    "\n",
    "from sklearn import preprocessing\n",
    "from sklearn.preprocessing import StandardScaler\n",
    "from sklearn.model_selection import train_test_split\n",
    "from sklearn.utils import resample\n",
    "\n",
    "from sklearn.cluster import KMeans\n",
    "from sklearn.ensemble import RandomForestClassifier\n",
    "from sklearn.linear_model import LogisticRegression\n",
    "from sklearn.naive_bayes import GaussianNB \n",
    "\n",
    "from sklearn.metrics import confusion_matrix \n",
    "from sklearn.metrics import accuracy_score\n",
    "from sklearn.model_selection import cross_val_score\n",
    "from sklearn.model_selection import cross_val_predict\n",
    "from sklearn.metrics import classification_report\n",
    "\n",
    "\n",
    "from keras.models import Sequential\n",
    "from keras.layers import Dense, Dropout, BatchNormalization\n",
    "from sklearn.preprocessing import StandardScaler\n",
    "from sklearn.model_selection import train_test_split"
   ]
  },
  {
   "cell_type": "code",
   "execution_count": 312,
   "metadata": {},
   "outputs": [],
   "source": [
    "input_file = \"C:/Users/prc0549/Documents/MS Analytics/ANLY 699/Data project/Datafinal.csv\" \n",
    "finaldata = pd.read_csv(input_file)"
   ]
  },
  {
   "cell_type": "code",
   "execution_count": 313,
   "metadata": {},
   "outputs": [
    {
     "data": {
      "text/html": [
       "<div>\n",
       "<style scoped>\n",
       "    .dataframe tbody tr th:only-of-type {\n",
       "        vertical-align: middle;\n",
       "    }\n",
       "\n",
       "    .dataframe tbody tr th {\n",
       "        vertical-align: top;\n",
       "    }\n",
       "\n",
       "    .dataframe thead th {\n",
       "        text-align: right;\n",
       "    }\n",
       "</style>\n",
       "<table border=\"1\" class=\"dataframe\">\n",
       "  <thead>\n",
       "    <tr style=\"text-align: right;\">\n",
       "      <th></th>\n",
       "      <th>latround</th>\n",
       "      <th>lonround</th>\n",
       "      <th>FIRE_SIZE</th>\n",
       "      <th>STAT_CAUSE_DESCR</th>\n",
       "      <th>STATE</th>\n",
       "      <th>C_FFMC</th>\n",
       "      <th>C_DC</th>\n",
       "      <th>C_DMC</th>\n",
       "      <th>M_t</th>\n",
       "      <th>M_rh</th>\n",
       "      <th>M_wdSpd</th>\n",
       "      <th>C_prec</th>\n",
       "      <th>C_ISI</th>\n",
       "      <th>Size_bin</th>\n",
       "      <th>FIREMONTH</th>\n",
       "      <th>FIREDOW</th>\n",
       "    </tr>\n",
       "  </thead>\n",
       "  <tbody>\n",
       "    <tr>\n",
       "      <th>0</th>\n",
       "      <td>25.5</td>\n",
       "      <td>-80.67</td>\n",
       "      <td>20.0</td>\n",
       "      <td>Children</td>\n",
       "      <td>FL</td>\n",
       "      <td>85.16220</td>\n",
       "      <td>281.0507</td>\n",
       "      <td>27.03898</td>\n",
       "      <td>17.95706</td>\n",
       "      <td>62.53465</td>\n",
       "      <td>26.94340</td>\n",
       "      <td>0.108983</td>\n",
       "      <td>8.376362</td>\n",
       "      <td>10.0-99.9</td>\n",
       "      <td>Jan</td>\n",
       "      <td>Friday</td>\n",
       "    </tr>\n",
       "    <tr>\n",
       "      <th>1</th>\n",
       "      <td>25.5</td>\n",
       "      <td>-80.67</td>\n",
       "      <td>5.0</td>\n",
       "      <td>Missing/Undefined</td>\n",
       "      <td>FL</td>\n",
       "      <td>85.20996</td>\n",
       "      <td>283.2627</td>\n",
       "      <td>27.97254</td>\n",
       "      <td>13.93316</td>\n",
       "      <td>58.49655</td>\n",
       "      <td>20.52926</td>\n",
       "      <td>0.000000</td>\n",
       "      <td>6.103125</td>\n",
       "      <td>0.26-9.9</td>\n",
       "      <td>Jan</td>\n",
       "      <td>Saturday</td>\n",
       "    </tr>\n",
       "    <tr>\n",
       "      <th>2</th>\n",
       "      <td>25.5</td>\n",
       "      <td>-80.67</td>\n",
       "      <td>1.0</td>\n",
       "      <td>Equipment Use</td>\n",
       "      <td>FL</td>\n",
       "      <td>85.82980</td>\n",
       "      <td>289.5184</td>\n",
       "      <td>30.33135</td>\n",
       "      <td>23.05233</td>\n",
       "      <td>61.22300</td>\n",
       "      <td>16.61895</td>\n",
       "      <td>0.000000</td>\n",
       "      <td>5.462952</td>\n",
       "      <td>0.26-9.9</td>\n",
       "      <td>Jan</td>\n",
       "      <td>Monday</td>\n",
       "    </tr>\n",
       "    <tr>\n",
       "      <th>3</th>\n",
       "      <td>25.5</td>\n",
       "      <td>-80.67</td>\n",
       "      <td>0.4</td>\n",
       "      <td>Missing/Undefined</td>\n",
       "      <td>FL</td>\n",
       "      <td>86.03359</td>\n",
       "      <td>293.6162</td>\n",
       "      <td>31.78532</td>\n",
       "      <td>24.41006</td>\n",
       "      <td>61.90777</td>\n",
       "      <td>24.70461</td>\n",
       "      <td>0.023437</td>\n",
       "      <td>8.448637</td>\n",
       "      <td>0.26-9.9</td>\n",
       "      <td>Jan</td>\n",
       "      <td>Tuesday</td>\n",
       "    </tr>\n",
       "  </tbody>\n",
       "</table>\n",
       "</div>"
      ],
      "text/plain": [
       "   latround  lonround  FIRE_SIZE   STAT_CAUSE_DESCR STATE    C_FFMC      C_DC  \\\n",
       "0      25.5    -80.67       20.0           Children    FL  85.16220  281.0507   \n",
       "1      25.5    -80.67        5.0  Missing/Undefined    FL  85.20996  283.2627   \n",
       "2      25.5    -80.67        1.0      Equipment Use    FL  85.82980  289.5184   \n",
       "3      25.5    -80.67        0.4  Missing/Undefined    FL  86.03359  293.6162   \n",
       "\n",
       "      C_DMC       M_t      M_rh   M_wdSpd    C_prec     C_ISI   Size_bin  \\\n",
       "0  27.03898  17.95706  62.53465  26.94340  0.108983  8.376362  10.0-99.9   \n",
       "1  27.97254  13.93316  58.49655  20.52926  0.000000  6.103125   0.26-9.9   \n",
       "2  30.33135  23.05233  61.22300  16.61895  0.000000  5.462952   0.26-9.9   \n",
       "3  31.78532  24.41006  61.90777  24.70461  0.023437  8.448637   0.26-9.9   \n",
       "\n",
       "  FIREMONTH   FIREDOW  \n",
       "0       Jan    Friday  \n",
       "1       Jan  Saturday  \n",
       "2       Jan    Monday  \n",
       "3       Jan   Tuesday  "
      ]
     },
     "execution_count": 313,
     "metadata": {},
     "output_type": "execute_result"
    }
   ],
   "source": [
    "#Checking the data load\n",
    "finaldata.head(4)"
   ]
  },
  {
   "cell_type": "code",
   "execution_count": 314,
   "metadata": {},
   "outputs": [
    {
     "data": {
      "text/html": [
       "<div>\n",
       "<style scoped>\n",
       "    .dataframe tbody tr th:only-of-type {\n",
       "        vertical-align: middle;\n",
       "    }\n",
       "\n",
       "    .dataframe tbody tr th {\n",
       "        vertical-align: top;\n",
       "    }\n",
       "\n",
       "    .dataframe thead th {\n",
       "        text-align: right;\n",
       "    }\n",
       "</style>\n",
       "<table border=\"1\" class=\"dataframe\">\n",
       "  <thead>\n",
       "    <tr style=\"text-align: right;\">\n",
       "      <th></th>\n",
       "      <th>latround</th>\n",
       "      <th>lonround</th>\n",
       "      <th>FIRE_SIZE</th>\n",
       "      <th>C_FFMC</th>\n",
       "      <th>C_DC</th>\n",
       "      <th>C_DMC</th>\n",
       "      <th>M_t</th>\n",
       "      <th>M_rh</th>\n",
       "      <th>M_wdSpd</th>\n",
       "      <th>C_prec</th>\n",
       "      <th>C_ISI</th>\n",
       "    </tr>\n",
       "  </thead>\n",
       "  <tbody>\n",
       "    <tr>\n",
       "      <th>count</th>\n",
       "      <td>94263.000000</td>\n",
       "      <td>94263.000000</td>\n",
       "      <td>94263.000000</td>\n",
       "      <td>94263.000000</td>\n",
       "      <td>94263.000000</td>\n",
       "      <td>94263.000000</td>\n",
       "      <td>94263.000000</td>\n",
       "      <td>94263.000000</td>\n",
       "      <td>94263.000000</td>\n",
       "      <td>9.426300e+04</td>\n",
       "      <td>9.426300e+04</td>\n",
       "    </tr>\n",
       "    <tr>\n",
       "      <th>mean</th>\n",
       "      <td>36.238227</td>\n",
       "      <td>-95.986424</td>\n",
       "      <td>100.037091</td>\n",
       "      <td>88.495085</td>\n",
       "      <td>299.530246</td>\n",
       "      <td>76.840284</td>\n",
       "      <td>25.407976</td>\n",
       "      <td>37.820333</td>\n",
       "      <td>10.986897</td>\n",
       "      <td>7.750812e-01</td>\n",
       "      <td>9.976701e+00</td>\n",
       "    </tr>\n",
       "    <tr>\n",
       "      <th>std</th>\n",
       "      <td>5.471606</td>\n",
       "      <td>14.184135</td>\n",
       "      <td>2977.660201</td>\n",
       "      <td>9.227274</td>\n",
       "      <td>312.857524</td>\n",
       "      <td>105.865439</td>\n",
       "      <td>7.866449</td>\n",
       "      <td>18.402139</td>\n",
       "      <td>7.131908</td>\n",
       "      <td>2.832254e+00</td>\n",
       "      <td>9.148738e+00</td>\n",
       "    </tr>\n",
       "    <tr>\n",
       "      <th>min</th>\n",
       "      <td>25.500000</td>\n",
       "      <td>-124.670000</td>\n",
       "      <td>0.000200</td>\n",
       "      <td>3.760347</td>\n",
       "      <td>0.195785</td>\n",
       "      <td>0.019820</td>\n",
       "      <td>1.873193</td>\n",
       "      <td>0.685971</td>\n",
       "      <td>0.052316</td>\n",
       "      <td>-1.247548e-14</td>\n",
       "      <td>4.513861e-08</td>\n",
       "    </tr>\n",
       "    <tr>\n",
       "      <th>25%</th>\n",
       "      <td>32.000000</td>\n",
       "      <td>-107.330000</td>\n",
       "      <td>0.200000</td>\n",
       "      <td>86.576370</td>\n",
       "      <td>51.734310</td>\n",
       "      <td>18.241415</td>\n",
       "      <td>19.385580</td>\n",
       "      <td>23.755875</td>\n",
       "      <td>5.910426</td>\n",
       "      <td>0.000000e+00</td>\n",
       "      <td>4.358532e+00</td>\n",
       "    </tr>\n",
       "    <tr>\n",
       "      <th>50%</th>\n",
       "      <td>34.500000</td>\n",
       "      <td>-94.000000</td>\n",
       "      <td>1.000000</td>\n",
       "      <td>90.079610</td>\n",
       "      <td>210.646300</td>\n",
       "      <td>39.734500</td>\n",
       "      <td>25.552550</td>\n",
       "      <td>35.612110</td>\n",
       "      <td>9.286214</td>\n",
       "      <td>0.000000e+00</td>\n",
       "      <td>7.315162e+00</td>\n",
       "    </tr>\n",
       "    <tr>\n",
       "      <th>75%</th>\n",
       "      <td>40.500000</td>\n",
       "      <td>-84.000000</td>\n",
       "      <td>5.000000</td>\n",
       "      <td>93.894375</td>\n",
       "      <td>451.766700</td>\n",
       "      <td>89.847340</td>\n",
       "      <td>31.479970</td>\n",
       "      <td>49.331080</td>\n",
       "      <td>14.200800</td>\n",
       "      <td>2.155044e-01</td>\n",
       "      <td>1.299556e+01</td>\n",
       "    </tr>\n",
       "    <tr>\n",
       "      <th>max</th>\n",
       "      <td>49.000000</td>\n",
       "      <td>-67.330000</td>\n",
       "      <td>479549.000000</td>\n",
       "      <td>100.552000</td>\n",
       "      <td>2799.314000</td>\n",
       "      <td>1189.231000</td>\n",
       "      <td>49.666740</td>\n",
       "      <td>99.084690</td>\n",
       "      <td>53.923800</td>\n",
       "      <td>1.021282e+02</td>\n",
       "      <td>1.080923e+02</td>\n",
       "    </tr>\n",
       "  </tbody>\n",
       "</table>\n",
       "</div>"
      ],
      "text/plain": [
       "           latround      lonround      FIRE_SIZE        C_FFMC          C_DC  \\\n",
       "count  94263.000000  94263.000000   94263.000000  94263.000000  94263.000000   \n",
       "mean      36.238227    -95.986424     100.037091     88.495085    299.530246   \n",
       "std        5.471606     14.184135    2977.660201      9.227274    312.857524   \n",
       "min       25.500000   -124.670000       0.000200      3.760347      0.195785   \n",
       "25%       32.000000   -107.330000       0.200000     86.576370     51.734310   \n",
       "50%       34.500000    -94.000000       1.000000     90.079610    210.646300   \n",
       "75%       40.500000    -84.000000       5.000000     93.894375    451.766700   \n",
       "max       49.000000    -67.330000  479549.000000    100.552000   2799.314000   \n",
       "\n",
       "              C_DMC           M_t          M_rh       M_wdSpd        C_prec  \\\n",
       "count  94263.000000  94263.000000  94263.000000  94263.000000  9.426300e+04   \n",
       "mean      76.840284     25.407976     37.820333     10.986897  7.750812e-01   \n",
       "std      105.865439      7.866449     18.402139      7.131908  2.832254e+00   \n",
       "min        0.019820      1.873193      0.685971      0.052316 -1.247548e-14   \n",
       "25%       18.241415     19.385580     23.755875      5.910426  0.000000e+00   \n",
       "50%       39.734500     25.552550     35.612110      9.286214  0.000000e+00   \n",
       "75%       89.847340     31.479970     49.331080     14.200800  2.155044e-01   \n",
       "max     1189.231000     49.666740     99.084690     53.923800  1.021282e+02   \n",
       "\n",
       "              C_ISI  \n",
       "count  9.426300e+04  \n",
       "mean   9.976701e+00  \n",
       "std    9.148738e+00  \n",
       "min    4.513861e-08  \n",
       "25%    4.358532e+00  \n",
       "50%    7.315162e+00  \n",
       "75%    1.299556e+01  \n",
       "max    1.080923e+02  "
      ]
     },
     "execution_count": 314,
     "metadata": {},
     "output_type": "execute_result"
    }
   ],
   "source": [
    "#Describing the dataset to see the data types and variables\n",
    "finaldata.describe()"
   ]
  },
  {
   "cell_type": "code",
   "execution_count": 315,
   "metadata": {},
   "outputs": [
    {
     "name": "stdout",
     "output_type": "stream",
     "text": [
      "<class 'pandas.core.frame.DataFrame'>\n",
      "RangeIndex: 94263 entries, 0 to 94262\n",
      "Data columns (total 16 columns):\n",
      " #   Column            Non-Null Count  Dtype  \n",
      "---  ------            --------------  -----  \n",
      " 0   latround          94263 non-null  float64\n",
      " 1   lonround          94263 non-null  float64\n",
      " 2   FIRE_SIZE         94263 non-null  float64\n",
      " 3   STAT_CAUSE_DESCR  94263 non-null  object \n",
      " 4   STATE             94263 non-null  object \n",
      " 5   C_FFMC            94263 non-null  float64\n",
      " 6   C_DC              94263 non-null  float64\n",
      " 7   C_DMC             94263 non-null  float64\n",
      " 8   M_t               94263 non-null  float64\n",
      " 9   M_rh              94263 non-null  float64\n",
      " 10  M_wdSpd           94263 non-null  float64\n",
      " 11  C_prec            94263 non-null  float64\n",
      " 12  C_ISI             94263 non-null  float64\n",
      " 13  Size_bin          94263 non-null  object \n",
      " 14  FIREMONTH         94263 non-null  object \n",
      " 15  FIREDOW           94263 non-null  object \n",
      "dtypes: float64(11), object(5)\n",
      "memory usage: 11.5+ MB\n"
     ]
    }
   ],
   "source": [
    "#\n",
    "finaldata.info()"
   ]
  },
  {
   "cell_type": "code",
   "execution_count": 316,
   "metadata": {},
   "outputs": [
    {
     "name": "stdout",
     "output_type": "stream",
     "text": [
      "<class 'pandas.core.frame.DataFrame'>\n",
      "RangeIndex: 94263 entries, 0 to 94262\n",
      "Data columns (total 15 columns):\n",
      " #   Column            Non-Null Count  Dtype  \n",
      "---  ------            --------------  -----  \n",
      " 0   latround          94263 non-null  float64\n",
      " 1   lonround          94263 non-null  float64\n",
      " 2   FIRE_SIZE         94263 non-null  float64\n",
      " 3   STAT_CAUSE_DESCR  94263 non-null  object \n",
      " 4   C_FFMC            94263 non-null  float64\n",
      " 5   C_DC              94263 non-null  float64\n",
      " 6   C_DMC             94263 non-null  float64\n",
      " 7   M_t               94263 non-null  float64\n",
      " 8   M_rh              94263 non-null  float64\n",
      " 9   M_wdSpd           94263 non-null  float64\n",
      " 10  C_prec            94263 non-null  float64\n",
      " 11  C_ISI             94263 non-null  float64\n",
      " 12  Size_bin          94263 non-null  object \n",
      " 13  FIREMONTH         94263 non-null  object \n",
      " 14  FIREDOW           94263 non-null  object \n",
      "dtypes: float64(11), object(4)\n",
      "memory usage: 10.8+ MB\n"
     ]
    }
   ],
   "source": [
    "firedata = finaldata\n",
    "firedata=firedata.drop(['STATE'], axis=1)\n",
    "firedata.info()"
   ]
  },
  {
   "cell_type": "code",
   "execution_count": 317,
   "metadata": {},
   "outputs": [],
   "source": [
    "#Label encoding of categorical variables\n",
    "cols = ['STAT_CAUSE_DESCR', 'Size_bin', 'FIREMONTH','FIREDOW']\n",
    "for col in cols:\n",
    "    lbl = preprocessing.LabelEncoder()\n",
    "    lbl.fit(list(firedata[col].values.astype('str')))\n",
    "    firedata[col] = lbl.transform(list(firedata[col].values.astype('str')))"
   ]
  },
  {
   "cell_type": "code",
   "execution_count": 318,
   "metadata": {},
   "outputs": [
    {
     "data": {
      "text/html": [
       "<div>\n",
       "<style scoped>\n",
       "    .dataframe tbody tr th:only-of-type {\n",
       "        vertical-align: middle;\n",
       "    }\n",
       "\n",
       "    .dataframe tbody tr th {\n",
       "        vertical-align: top;\n",
       "    }\n",
       "\n",
       "    .dataframe thead th {\n",
       "        text-align: right;\n",
       "    }\n",
       "</style>\n",
       "<table border=\"1\" class=\"dataframe\">\n",
       "  <thead>\n",
       "    <tr style=\"text-align: right;\">\n",
       "      <th></th>\n",
       "      <th>latround</th>\n",
       "      <th>lonround</th>\n",
       "      <th>FIRE_SIZE</th>\n",
       "      <th>STAT_CAUSE_DESCR</th>\n",
       "      <th>C_FFMC</th>\n",
       "      <th>C_DC</th>\n",
       "      <th>C_DMC</th>\n",
       "      <th>M_t</th>\n",
       "      <th>M_rh</th>\n",
       "      <th>M_wdSpd</th>\n",
       "      <th>C_prec</th>\n",
       "      <th>C_ISI</th>\n",
       "      <th>Size_bin</th>\n",
       "      <th>FIREMONTH</th>\n",
       "      <th>FIREDOW</th>\n",
       "    </tr>\n",
       "  </thead>\n",
       "  <tbody>\n",
       "    <tr>\n",
       "      <th>0</th>\n",
       "      <td>25.5</td>\n",
       "      <td>-80.67</td>\n",
       "      <td>20.0</td>\n",
       "      <td>2</td>\n",
       "      <td>85.16220</td>\n",
       "      <td>281.0507</td>\n",
       "      <td>27.03898</td>\n",
       "      <td>17.95706</td>\n",
       "      <td>62.53465</td>\n",
       "      <td>26.94340</td>\n",
       "      <td>0.108983</td>\n",
       "      <td>8.376362</td>\n",
       "      <td>2</td>\n",
       "      <td>4</td>\n",
       "      <td>0</td>\n",
       "    </tr>\n",
       "    <tr>\n",
       "      <th>1</th>\n",
       "      <td>25.5</td>\n",
       "      <td>-80.67</td>\n",
       "      <td>5.0</td>\n",
       "      <td>8</td>\n",
       "      <td>85.20996</td>\n",
       "      <td>283.2627</td>\n",
       "      <td>27.97254</td>\n",
       "      <td>13.93316</td>\n",
       "      <td>58.49655</td>\n",
       "      <td>20.52926</td>\n",
       "      <td>0.000000</td>\n",
       "      <td>6.103125</td>\n",
       "      <td>1</td>\n",
       "      <td>4</td>\n",
       "      <td>2</td>\n",
       "    </tr>\n",
       "    <tr>\n",
       "      <th>2</th>\n",
       "      <td>25.5</td>\n",
       "      <td>-80.67</td>\n",
       "      <td>1.0</td>\n",
       "      <td>4</td>\n",
       "      <td>85.82980</td>\n",
       "      <td>289.5184</td>\n",
       "      <td>30.33135</td>\n",
       "      <td>23.05233</td>\n",
       "      <td>61.22300</td>\n",
       "      <td>16.61895</td>\n",
       "      <td>0.000000</td>\n",
       "      <td>5.462952</td>\n",
       "      <td>1</td>\n",
       "      <td>4</td>\n",
       "      <td>1</td>\n",
       "    </tr>\n",
       "    <tr>\n",
       "      <th>3</th>\n",
       "      <td>25.5</td>\n",
       "      <td>-80.67</td>\n",
       "      <td>0.4</td>\n",
       "      <td>8</td>\n",
       "      <td>86.03359</td>\n",
       "      <td>293.6162</td>\n",
       "      <td>31.78532</td>\n",
       "      <td>24.41006</td>\n",
       "      <td>61.90777</td>\n",
       "      <td>24.70461</td>\n",
       "      <td>0.023437</td>\n",
       "      <td>8.448637</td>\n",
       "      <td>1</td>\n",
       "      <td>4</td>\n",
       "      <td>5</td>\n",
       "    </tr>\n",
       "    <tr>\n",
       "      <th>4</th>\n",
       "      <td>25.5</td>\n",
       "      <td>-80.67</td>\n",
       "      <td>0.3</td>\n",
       "      <td>8</td>\n",
       "      <td>86.08164</td>\n",
       "      <td>297.8394</td>\n",
       "      <td>32.97161</td>\n",
       "      <td>25.10641</td>\n",
       "      <td>69.74634</td>\n",
       "      <td>10.32157</td>\n",
       "      <td>0.055903</td>\n",
       "      <td>4.120590</td>\n",
       "      <td>1</td>\n",
       "      <td>4</td>\n",
       "      <td>6</td>\n",
       "    </tr>\n",
       "  </tbody>\n",
       "</table>\n",
       "</div>"
      ],
      "text/plain": [
       "   latround  lonround  FIRE_SIZE  STAT_CAUSE_DESCR    C_FFMC      C_DC  \\\n",
       "0      25.5    -80.67       20.0                 2  85.16220  281.0507   \n",
       "1      25.5    -80.67        5.0                 8  85.20996  283.2627   \n",
       "2      25.5    -80.67        1.0                 4  85.82980  289.5184   \n",
       "3      25.5    -80.67        0.4                 8  86.03359  293.6162   \n",
       "4      25.5    -80.67        0.3                 8  86.08164  297.8394   \n",
       "\n",
       "      C_DMC       M_t      M_rh   M_wdSpd    C_prec     C_ISI  Size_bin  \\\n",
       "0  27.03898  17.95706  62.53465  26.94340  0.108983  8.376362         2   \n",
       "1  27.97254  13.93316  58.49655  20.52926  0.000000  6.103125         1   \n",
       "2  30.33135  23.05233  61.22300  16.61895  0.000000  5.462952         1   \n",
       "3  31.78532  24.41006  61.90777  24.70461  0.023437  8.448637         1   \n",
       "4  32.97161  25.10641  69.74634  10.32157  0.055903  4.120590         1   \n",
       "\n",
       "   FIREMONTH  FIREDOW  \n",
       "0          4        0  \n",
       "1          4        2  \n",
       "2          4        1  \n",
       "3          4        5  \n",
       "4          4        6  "
      ]
     },
     "execution_count": 318,
     "metadata": {},
     "output_type": "execute_result"
    }
   ],
   "source": [
    "firedata.head()"
   ]
  },
  {
   "cell_type": "code",
   "execution_count": 319,
   "metadata": {},
   "outputs": [],
   "source": [
    "target = firedata['Size_bin']"
   ]
  },
  {
   "cell_type": "code",
   "execution_count": 321,
   "metadata": {},
   "outputs": [
    {
     "data": {
      "text/plain": [
       "1    48811\n",
       "0    27903\n",
       "2    13724\n",
       "3     2001\n",
       "4     1824\n",
       "Name: Size_bin, dtype: int64"
      ]
     },
     "execution_count": 321,
     "metadata": {},
     "output_type": "execute_result"
    }
   ],
   "source": [
    "target.value_counts()"
   ]
  },
  {
   "cell_type": "code",
   "execution_count": 322,
   "metadata": {},
   "outputs": [
    {
     "name": "stdout",
     "output_type": "stream",
     "text": [
      "<class 'pandas.core.frame.DataFrame'>\n",
      "RangeIndex: 94263 entries, 0 to 94262\n",
      "Data columns (total 15 columns):\n",
      " #   Column            Non-Null Count  Dtype  \n",
      "---  ------            --------------  -----  \n",
      " 0   latround          94263 non-null  float64\n",
      " 1   lonround          94263 non-null  float64\n",
      " 2   FIRE_SIZE         94263 non-null  float64\n",
      " 3   STAT_CAUSE_DESCR  94263 non-null  int64  \n",
      " 4   C_FFMC            94263 non-null  float64\n",
      " 5   C_DC              94263 non-null  float64\n",
      " 6   C_DMC             94263 non-null  float64\n",
      " 7   M_t               94263 non-null  float64\n",
      " 8   M_rh              94263 non-null  float64\n",
      " 9   M_wdSpd           94263 non-null  float64\n",
      " 10  C_prec            94263 non-null  float64\n",
      " 11  C_ISI             94263 non-null  float64\n",
      " 12  Size_bin          94263 non-null  int64  \n",
      " 13  FIREMONTH         94263 non-null  int64  \n",
      " 14  FIREDOW           94263 non-null  int64  \n",
      "dtypes: float64(11), int64(4)\n",
      "memory usage: 10.8 MB\n"
     ]
    }
   ],
   "source": [
    "firedata.info()"
   ]
  },
  {
   "cell_type": "code",
   "execution_count": 323,
   "metadata": {},
   "outputs": [],
   "source": [
    "numeric = ['C_FFMC', 'C_DMC', 'C_DC', 'M_t', 'M_rh',  'M_wdSpd','C_prec','C_ISI']  \n",
    "scaler = StandardScaler()\n",
    "x = firedata[numeric].values\n",
    "x_scaled = scaler.fit_transform(x)\n",
    "df_temp = pd.DataFrame(x_scaled, columns=numeric, index = firedata.index)\n",
    "firedata[numeric] = df_temp"
   ]
  },
  {
   "cell_type": "code",
   "execution_count": 324,
   "metadata": {},
   "outputs": [
    {
     "data": {
      "text/html": [
       "<div>\n",
       "<style scoped>\n",
       "    .dataframe tbody tr th:only-of-type {\n",
       "        vertical-align: middle;\n",
       "    }\n",
       "\n",
       "    .dataframe tbody tr th {\n",
       "        vertical-align: top;\n",
       "    }\n",
       "\n",
       "    .dataframe thead th {\n",
       "        text-align: right;\n",
       "    }\n",
       "</style>\n",
       "<table border=\"1\" class=\"dataframe\">\n",
       "  <thead>\n",
       "    <tr style=\"text-align: right;\">\n",
       "      <th></th>\n",
       "      <th>latround</th>\n",
       "      <th>lonround</th>\n",
       "      <th>FIRE_SIZE</th>\n",
       "      <th>STAT_CAUSE_DESCR</th>\n",
       "      <th>C_FFMC</th>\n",
       "      <th>C_DC</th>\n",
       "      <th>C_DMC</th>\n",
       "      <th>M_t</th>\n",
       "      <th>M_rh</th>\n",
       "      <th>M_wdSpd</th>\n",
       "      <th>C_prec</th>\n",
       "      <th>C_ISI</th>\n",
       "      <th>Size_bin</th>\n",
       "      <th>FIREMONTH</th>\n",
       "      <th>FIREDOW</th>\n",
       "    </tr>\n",
       "  </thead>\n",
       "  <tbody>\n",
       "    <tr>\n",
       "      <th>count</th>\n",
       "      <td>94263.000000</td>\n",
       "      <td>94263.000000</td>\n",
       "      <td>94263.000000</td>\n",
       "      <td>94263.000000</td>\n",
       "      <td>9.426300e+04</td>\n",
       "      <td>9.426300e+04</td>\n",
       "      <td>9.426300e+04</td>\n",
       "      <td>9.426300e+04</td>\n",
       "      <td>9.426300e+04</td>\n",
       "      <td>9.426300e+04</td>\n",
       "      <td>9.426300e+04</td>\n",
       "      <td>9.426300e+04</td>\n",
       "      <td>94263.000000</td>\n",
       "      <td>94263.000000</td>\n",
       "      <td>94263.000000</td>\n",
       "    </tr>\n",
       "    <tr>\n",
       "      <th>mean</th>\n",
       "      <td>36.238227</td>\n",
       "      <td>-95.986424</td>\n",
       "      <td>100.037091</td>\n",
       "      <td>4.322587</td>\n",
       "      <td>-6.265482e-16</td>\n",
       "      <td>-1.471393e-16</td>\n",
       "      <td>-1.827181e-16</td>\n",
       "      <td>3.618180e-18</td>\n",
       "      <td>-1.977938e-16</td>\n",
       "      <td>1.097515e-16</td>\n",
       "      <td>-4.884543e-17</td>\n",
       "      <td>1.869393e-16</td>\n",
       "      <td>0.950086</td>\n",
       "      <td>4.829806</td>\n",
       "      <td>3.025164</td>\n",
       "    </tr>\n",
       "    <tr>\n",
       "      <th>std</th>\n",
       "      <td>5.471606</td>\n",
       "      <td>14.184135</td>\n",
       "      <td>2977.660201</td>\n",
       "      <td>2.815052</td>\n",
       "      <td>1.000005e+00</td>\n",
       "      <td>1.000005e+00</td>\n",
       "      <td>1.000005e+00</td>\n",
       "      <td>1.000005e+00</td>\n",
       "      <td>1.000005e+00</td>\n",
       "      <td>1.000005e+00</td>\n",
       "      <td>1.000005e+00</td>\n",
       "      <td>1.000005e+00</td>\n",
       "      <td>0.835574</td>\n",
       "      <td>3.216038</td>\n",
       "      <td>1.999916</td>\n",
       "    </tr>\n",
       "    <tr>\n",
       "      <th>min</th>\n",
       "      <td>25.500000</td>\n",
       "      <td>-124.670000</td>\n",
       "      <td>0.000200</td>\n",
       "      <td>0.000000</td>\n",
       "      <td>-9.183123e+00</td>\n",
       "      <td>-9.567807e-01</td>\n",
       "      <td>-7.256464e-01</td>\n",
       "      <td>-2.991808e+00</td>\n",
       "      <td>-2.017948e+00</td>\n",
       "      <td>-1.533200e+00</td>\n",
       "      <td>-2.736638e-01</td>\n",
       "      <td>-1.090506e+00</td>\n",
       "      <td>0.000000</td>\n",
       "      <td>0.000000</td>\n",
       "      <td>0.000000</td>\n",
       "    </tr>\n",
       "    <tr>\n",
       "      <th>25%</th>\n",
       "      <td>32.000000</td>\n",
       "      <td>-107.330000</td>\n",
       "      <td>0.200000</td>\n",
       "      <td>3.000000</td>\n",
       "      <td>-2.079406e-01</td>\n",
       "      <td>-7.920450e-01</td>\n",
       "      <td>-5.535251e-01</td>\n",
       "      <td>-7.655840e-01</td>\n",
       "      <td>-7.642879e-01</td>\n",
       "      <td>-7.118008e-01</td>\n",
       "      <td>-2.736638e-01</td>\n",
       "      <td>-6.140955e-01</td>\n",
       "      <td>0.000000</td>\n",
       "      <td>1.000000</td>\n",
       "      <td>1.000000</td>\n",
       "    </tr>\n",
       "    <tr>\n",
       "      <th>50%</th>\n",
       "      <td>34.500000</td>\n",
       "      <td>-94.000000</td>\n",
       "      <td>1.000000</td>\n",
       "      <td>4.000000</td>\n",
       "      <td>1.717228e-01</td>\n",
       "      <td>-2.841051e-01</td>\n",
       "      <td>-3.505014e-01</td>\n",
       "      <td>1.837868e-02</td>\n",
       "      <td>-1.199988e-01</td>\n",
       "      <td>-2.384624e-01</td>\n",
       "      <td>-2.736638e-01</td>\n",
       "      <td>-2.909203e-01</td>\n",
       "      <td>1.000000</td>\n",
       "      <td>5.000000</td>\n",
       "      <td>3.000000</td>\n",
       "    </tr>\n",
       "    <tr>\n",
       "      <th>75%</th>\n",
       "      <td>40.500000</td>\n",
       "      <td>-84.000000</td>\n",
       "      <td>5.000000</td>\n",
       "      <td>7.000000</td>\n",
       "      <td>5.851478e-01</td>\n",
       "      <td>4.866025e-01</td>\n",
       "      <td>1.228647e-01</td>\n",
       "      <td>7.718891e-01</td>\n",
       "      <td>6.255147e-01</td>\n",
       "      <td>4.506396e-01</td>\n",
       "      <td>-1.975741e-01</td>\n",
       "      <td>3.299772e-01</td>\n",
       "      <td>1.000000</td>\n",
       "      <td>7.000000</td>\n",
       "      <td>5.000000</td>\n",
       "    </tr>\n",
       "    <tr>\n",
       "      <th>max</th>\n",
       "      <td>49.000000</td>\n",
       "      <td>-67.330000</td>\n",
       "      <td>479549.000000</td>\n",
       "      <td>12.000000</td>\n",
       "      <td>1.306668e+00</td>\n",
       "      <td>7.990209e+00</td>\n",
       "      <td>1.050765e+01</td>\n",
       "      <td>3.083843e+00</td>\n",
       "      <td>3.329215e+00</td>\n",
       "      <td>6.020427e+00</td>\n",
       "      <td>3.578552e+01</td>\n",
       "      <td>1.072455e+01</td>\n",
       "      <td>4.000000</td>\n",
       "      <td>11.000000</td>\n",
       "      <td>6.000000</td>\n",
       "    </tr>\n",
       "  </tbody>\n",
       "</table>\n",
       "</div>"
      ],
      "text/plain": [
       "           latround      lonround      FIRE_SIZE  STAT_CAUSE_DESCR  \\\n",
       "count  94263.000000  94263.000000   94263.000000      94263.000000   \n",
       "mean      36.238227    -95.986424     100.037091          4.322587   \n",
       "std        5.471606     14.184135    2977.660201          2.815052   \n",
       "min       25.500000   -124.670000       0.000200          0.000000   \n",
       "25%       32.000000   -107.330000       0.200000          3.000000   \n",
       "50%       34.500000    -94.000000       1.000000          4.000000   \n",
       "75%       40.500000    -84.000000       5.000000          7.000000   \n",
       "max       49.000000    -67.330000  479549.000000         12.000000   \n",
       "\n",
       "             C_FFMC          C_DC         C_DMC           M_t          M_rh  \\\n",
       "count  9.426300e+04  9.426300e+04  9.426300e+04  9.426300e+04  9.426300e+04   \n",
       "mean  -6.265482e-16 -1.471393e-16 -1.827181e-16  3.618180e-18 -1.977938e-16   \n",
       "std    1.000005e+00  1.000005e+00  1.000005e+00  1.000005e+00  1.000005e+00   \n",
       "min   -9.183123e+00 -9.567807e-01 -7.256464e-01 -2.991808e+00 -2.017948e+00   \n",
       "25%   -2.079406e-01 -7.920450e-01 -5.535251e-01 -7.655840e-01 -7.642879e-01   \n",
       "50%    1.717228e-01 -2.841051e-01 -3.505014e-01  1.837868e-02 -1.199988e-01   \n",
       "75%    5.851478e-01  4.866025e-01  1.228647e-01  7.718891e-01  6.255147e-01   \n",
       "max    1.306668e+00  7.990209e+00  1.050765e+01  3.083843e+00  3.329215e+00   \n",
       "\n",
       "            M_wdSpd        C_prec         C_ISI      Size_bin     FIREMONTH  \\\n",
       "count  9.426300e+04  9.426300e+04  9.426300e+04  94263.000000  94263.000000   \n",
       "mean   1.097515e-16 -4.884543e-17  1.869393e-16      0.950086      4.829806   \n",
       "std    1.000005e+00  1.000005e+00  1.000005e+00      0.835574      3.216038   \n",
       "min   -1.533200e+00 -2.736638e-01 -1.090506e+00      0.000000      0.000000   \n",
       "25%   -7.118008e-01 -2.736638e-01 -6.140955e-01      0.000000      1.000000   \n",
       "50%   -2.384624e-01 -2.736638e-01 -2.909203e-01      1.000000      5.000000   \n",
       "75%    4.506396e-01 -1.975741e-01  3.299772e-01      1.000000      7.000000   \n",
       "max    6.020427e+00  3.578552e+01  1.072455e+01      4.000000     11.000000   \n",
       "\n",
       "            FIREDOW  \n",
       "count  94263.000000  \n",
       "mean       3.025164  \n",
       "std        1.999916  \n",
       "min        0.000000  \n",
       "25%        1.000000  \n",
       "50%        3.000000  \n",
       "75%        5.000000  \n",
       "max        6.000000  "
      ]
     },
     "execution_count": 324,
     "metadata": {},
     "output_type": "execute_result"
    }
   ],
   "source": [
    "firedata.describe()"
   ]
  },
  {
   "cell_type": "code",
   "execution_count": 325,
   "metadata": {},
   "outputs": [],
   "source": [
    "#Using method 2 to split the data\n",
    "from sklearn.model_selection import train_test_split\n",
    "y = target\n",
    "X = firedata.drop(['Size_bin','FIRE_SIZE'],axis=1)\n",
    "X_train, X_test, y_train, y_test = train_test_split(X, y, test_size=0.30, random_state=52)"
   ]
  },
  {
   "cell_type": "code",
   "execution_count": 326,
   "metadata": {},
   "outputs": [],
   "source": [
    "#Training the model\n",
    "from sklearn import tree\n",
    "from sklearn.tree import DecisionTreeClassifier\n",
    "model = tree.DecisionTreeClassifier()\n",
    "model = model.fit(X_train, y_train)"
   ]
  },
  {
   "cell_type": "code",
   "execution_count": 327,
   "metadata": {},
   "outputs": [
    {
     "data": {
      "text/plain": [
       "53.97291276212031"
      ]
     },
     "execution_count": 327,
     "metadata": {},
     "output_type": "execute_result"
    }
   ],
   "source": [
    "from sklearn.metrics import confusion_matrix\n",
    "from sklearn.metrics import accuracy_score\n",
    "y_predict=model.predict(X_test)\n",
    "confusion_matrix(y_test,y_predict)\n",
    "accuracy_score(y_test, y_predict)*100"
   ]
  },
  {
   "cell_type": "code",
   "execution_count": 330,
   "metadata": {},
   "outputs": [
    {
     "name": "stdout",
     "output_type": "stream",
     "text": [
      "[0.53841491 0.53371723 0.53538415 0.53659645 0.52697787 0.54486208\n",
      " 0.53167627 0.5369809  0.53804183 0.55107608]\n",
      "\n",
      "Accuracy: 0.54 (std 0.01)\n",
      "Confusion Matrix: \n",
      "\n",
      "[[11452  6505  1116   195   249]\n",
      " [ 7498 20538  5039   615   428]\n",
      " [ 1260  5441  2457   308   218]\n",
      " [  219   661   325   126    72]\n",
      " [  273   451   248   104   186]]\n"
     ]
    }
   ],
   "source": [
    "#Implement cross validation\n",
    "from sklearn.model_selection import cross_val_score\n",
    "scores1  = cross_val_score(model, X_train, y_train, cv=10, scoring=\"accuracy\")\n",
    "y_predict = cross_val_predict(model, X_train, y_train, cv=3)\n",
    "\n",
    "print(scores1)\n",
    "print(\"\\nAccuracy: %0.2f (std %0.2f)\" % (scores1.mean(), scores1.std()))\n",
    "\n",
    "CM = confusion_matrix(y_train, y_predict)\n",
    "print(\"Confusion Matrix: \\n\")\n",
    "print(CM)"
   ]
  },
  {
   "cell_type": "code",
   "execution_count": 331,
   "metadata": {},
   "outputs": [
    {
     "data": {
      "image/png": "[encoded data removed]",
      "text/plain": [
       "<Figure size 720x720 with 2 Axes>"
      ]
     },
     "metadata": {
      "needs_background": "light"
     },
     "output_type": "display_data"
    }
   ],
   "source": [
    "# Visualize it as a heatmap\n",
    "fig, ax = plt.subplots(figsize=(10,10))\n",
    "akws = {\"ha\": 'center',\"va\": 'center', \"size\": 16}\n",
    "sn.heatmap(CM, fmt='', cmap=plt.cm.Blues, annot=True,annot_kws=akws, ax=ax,) \n",
    "plt.xlabel('Predicted fire class')\n",
    "plt.ylabel('Actual fire Class')\n",
    "plt.show()"
   ]
  },
  {
   "cell_type": "code",
   "execution_count": 332,
   "metadata": {},
   "outputs": [
    {
     "name": "stdout",
     "output_type": "stream",
     "text": [
      "[[ 5247  2937   155    24    23]\n",
      " [ 2508 11023  1020    67    75]\n",
      " [  350  2879   692    58    61]\n",
      " [   87   329   106    34    42]\n",
      " [  136   245    57    36    88]]\n",
      "60.412320096184445\n"
     ]
    }
   ],
   "source": [
    "# Part 2 Random forest\n",
    "from sklearn.ensemble import RandomForestClassifier\n",
    "clf = RandomForestClassifier() \n",
    "clf.fit(X_train, y_train) \n",
    "y_predict = clf.predict(X_test) \n",
    "print(confusion_matrix(y_test, y_predict)) \n",
    "print(accuracy_score(y_test, y_predict)*100)"
   ]
  },
  {
   "cell_type": "code",
   "execution_count": 333,
   "metadata": {},
   "outputs": [
    {
     "data": {
      "text/html": [
       "<div>\n",
       "<style scoped>\n",
       "    .dataframe tbody tr th:only-of-type {\n",
       "        vertical-align: middle;\n",
       "    }\n",
       "\n",
       "    .dataframe tbody tr th {\n",
       "        vertical-align: top;\n",
       "    }\n",
       "\n",
       "    .dataframe thead th {\n",
       "        text-align: right;\n",
       "    }\n",
       "</style>\n",
       "<table border=\"1\" class=\"dataframe\">\n",
       "  <thead>\n",
       "    <tr style=\"text-align: right;\">\n",
       "      <th></th>\n",
       "      <th>importance</th>\n",
       "    </tr>\n",
       "  </thead>\n",
       "  <tbody>\n",
       "    <tr>\n",
       "      <th>lonround</th>\n",
       "      <td>0.125423</td>\n",
       "    </tr>\n",
       "    <tr>\n",
       "      <th>latround</th>\n",
       "      <td>0.102817</td>\n",
       "    </tr>\n",
       "    <tr>\n",
       "      <th>C_DC</th>\n",
       "      <td>0.092689</td>\n",
       "    </tr>\n",
       "    <tr>\n",
       "      <th>C_DMC</th>\n",
       "      <td>0.088803</td>\n",
       "    </tr>\n",
       "    <tr>\n",
       "      <th>M_t</th>\n",
       "      <td>0.084671</td>\n",
       "    </tr>\n",
       "    <tr>\n",
       "      <th>M_wdSpd</th>\n",
       "      <td>0.083765</td>\n",
       "    </tr>\n",
       "    <tr>\n",
       "      <th>M_rh</th>\n",
       "      <td>0.083241</td>\n",
       "    </tr>\n",
       "    <tr>\n",
       "      <th>C_ISI</th>\n",
       "      <td>0.082656</td>\n",
       "    </tr>\n",
       "    <tr>\n",
       "      <th>C_FFMC</th>\n",
       "      <td>0.079941</td>\n",
       "    </tr>\n",
       "    <tr>\n",
       "      <th>STAT_CAUSE_DESCR</th>\n",
       "      <td>0.064699</td>\n",
       "    </tr>\n",
       "    <tr>\n",
       "      <th>C_prec</th>\n",
       "      <td>0.041855</td>\n",
       "    </tr>\n",
       "    <tr>\n",
       "      <th>FIREDOW</th>\n",
       "      <td>0.037566</td>\n",
       "    </tr>\n",
       "    <tr>\n",
       "      <th>FIREMONTH</th>\n",
       "      <td>0.031874</td>\n",
       "    </tr>\n",
       "  </tbody>\n",
       "</table>\n",
       "</div>"
      ],
      "text/plain": [
       "                  importance\n",
       "lonround            0.125423\n",
       "latround            0.102817\n",
       "C_DC                0.092689\n",
       "C_DMC               0.088803\n",
       "M_t                 0.084671\n",
       "M_wdSpd             0.083765\n",
       "M_rh                0.083241\n",
       "C_ISI               0.082656\n",
       "C_FFMC              0.079941\n",
       "STAT_CAUSE_DESCR    0.064699\n",
       "C_prec              0.041855\n",
       "FIREDOW             0.037566\n",
       "FIREMONTH           0.031874"
      ]
     },
     "execution_count": 333,
     "metadata": {},
     "output_type": "execute_result"
    }
   ],
   "source": [
    "#Calculating the feature importance in Python\n",
    "feature_importances = pd.DataFrame(clf.feature_importances_,\n",
    "                                   index = X_train.columns,\n",
    "                                    columns=['importance']).sort_values('importance',ascending=False)\n",
    "feature_importances"
   ]
  },
  {
   "cell_type": "code",
   "execution_count": 334,
   "metadata": {},
   "outputs": [
    {
     "name": "stdout",
     "output_type": "stream",
     "text": [
      "[0.59856338 0.60229133 0.60061835 0.59989088 0.59761753 0.60498318]\n",
      "\n",
      "Accuracy: 0.60 (std 0.00)\n",
      "Confusion Matrix: \n",
      "\n",
      "[[12237  6804   352    50    74]\n",
      " [ 6023 25615  2194   146   140]\n",
      " [  909  6945  1590   151    89]\n",
      " [  196   826   250    72    59]\n",
      " [  315   593   149    49   156]]\n"
     ]
    }
   ],
   "source": [
    "scoresrf    = cross_val_score(clf, X_train, y_train, cv=6, scoring=\"accuracy\")\n",
    "y_predictrf = cross_val_predict(clf, X_train, y_train, cv=6)\n",
    "\n",
    "print(scoresrf)\n",
    "print(\"\\nAccuracy: %0.2f (std %0.2f)\" % (scoresrf.mean(), scoresrf.std()))\n",
    "\n",
    "CMrf = confusion_matrix(y_train, y_predictrf)\n",
    "print(\"Confusion Matrix: \\n\")\n",
    "print(CMrf)"
   ]
  },
  {
   "cell_type": "code",
   "execution_count": 335,
   "metadata": {},
   "outputs": [
    {
     "data": {
      "image/png": "[encoded data removed]",
      "text/plain": [
       "<Figure size 720x720 with 2 Axes>"
      ]
     },
     "metadata": {
      "needs_background": "light"
     },
     "output_type": "display_data"
    }
   ],
   "source": [
    "# Visualize it as a heatmap\n",
    "fig, ax = plt.subplots(figsize=(10,10))\n",
    "akws = {\"ha\": 'center',\"va\": 'center', \"size\": 16}\n",
    "sn.heatmap(CMrf, fmt='', cmap=plt.cm.Blues, annot=True,annot_kws=akws, ax=ax,) \n",
    "plt.xlabel('Predicted fire class')\n",
    "plt.ylabel('Actual fire Class')\n",
    "plt.show()"
   ]
  },
  {
   "cell_type": "code",
   "execution_count": 336,
   "metadata": {},
   "outputs": [],
   "source": [
    "#Step 2 Training the Naive Bayes model\n",
    "from sklearn.naive_bayes import GaussianNB\n",
    "gnb= GaussianNB()\n",
    "gnb= gnb.fit(X_train, y_train)"
   ]
  },
  {
   "cell_type": "code",
   "execution_count": 337,
   "metadata": {},
   "outputs": [
    {
     "name": "stdout",
     "output_type": "stream",
     "text": [
      "[[ 3907  3881    16     0   582]\n",
      " [ 2196 11413   177     4   903]\n",
      " [  407  3233    72     0   328]\n",
      " [  110   349    18     0   121]\n",
      " [  167   179    11     0   205]]\n"
     ]
    },
    {
     "data": {
      "text/plain": [
       "55.1540012023056"
      ]
     },
     "execution_count": 337,
     "metadata": {},
     "output_type": "execute_result"
    }
   ],
   "source": [
    "y_predict=gnb.predict(X_test)\n",
    "print(confusion_matrix(y_test,y_predict))\n",
    "accuracy_score(y_test, y_predict)*100"
   ]
  },
  {
   "cell_type": "code",
   "execution_count": 338,
   "metadata": {},
   "outputs": [
    {
     "data": {
      "image/png": "[encoded data removed]",
      "text/plain": [
       "<Figure size 432x288 with 1 Axes>"
      ]
     },
     "metadata": {
      "needs_background": "light"
     },
     "output_type": "display_data"
    }
   ],
   "source": [
    "from sklearn.decomposition import PCA\n",
    "pca = PCA().fit(X_train)\n",
    "percent_variance = np.round(pca.explained_variance_ratio_* 100, decimals =1)\n",
    "plt.plot(range(1,11), percent_variance[:10])\n",
    "plt.ylabel('Percentate of Variance Explained')\n",
    "plt.xlabel('Principal Component')\n",
    "plt.title('PCA Scree Plot')\n",
    "plt.xticks(range(1,11))\n",
    "plt.show()"
   ]
  },
  {
   "cell_type": "code",
   "execution_count": 339,
   "metadata": {},
   "outputs": [
    {
     "data": {
      "text/plain": [
       "array([79.1, 10. ,  3.9,  2.9,  1.5,  0.9,  0.5,  0.4,  0.3,  0.2,  0.1,\n",
       "        0.1,  0. ])"
      ]
     },
     "execution_count": 339,
     "metadata": {},
     "output_type": "execute_result"
    }
   ],
   "source": [
    "percent_variance"
   ]
  },
  {
   "cell_type": "code",
   "execution_count": 340,
   "metadata": {},
   "outputs": [],
   "source": [
    "#Fitting the PCA algorithm with our Data\n",
    "pca_v2=PCA(n_components=2) \n",
    "pca_v2 = pca_v2.fit(X_train)"
   ]
  },
  {
   "cell_type": "code",
   "execution_count": 341,
   "metadata": {},
   "outputs": [
    {
     "data": {
      "image/png": "[encoded data removed]",
      "text/plain": [
       "<Figure size 1152x177.231 with 2 Axes>"
      ]
     },
     "metadata": {
      "needs_background": "light"
     },
     "output_type": "display_data"
    }
   ],
   "source": [
    "plt.matshow(pca_v2.components_,cmap='viridis')\n",
    "plt.yticks([0,1],['PCA1','PCA2'],fontsize=10)\n",
    "plt.colorbar()\n",
    "plt.xticks(range(len(X_train.columns)),X_train.columns,rotation=65,ha='left')\n",
    "plt.show()"
   ]
  },
  {
   "cell_type": "code",
   "execution_count": 342,
   "metadata": {},
   "outputs": [
    {
     "data": {
      "text/html": [
       "<div>\n",
       "<style scoped>\n",
       "    .dataframe tbody tr th:only-of-type {\n",
       "        vertical-align: middle;\n",
       "    }\n",
       "\n",
       "    .dataframe tbody tr th {\n",
       "        vertical-align: top;\n",
       "    }\n",
       "\n",
       "    .dataframe thead th {\n",
       "        text-align: right;\n",
       "    }\n",
       "</style>\n",
       "<table border=\"1\" class=\"dataframe\">\n",
       "  <thead>\n",
       "    <tr style=\"text-align: right;\">\n",
       "      <th></th>\n",
       "      <th>latround</th>\n",
       "      <th>lonround</th>\n",
       "      <th>FIRE_SIZE</th>\n",
       "      <th>STAT_CAUSE_DESCR</th>\n",
       "      <th>STATE</th>\n",
       "      <th>C_FFMC</th>\n",
       "      <th>C_DC</th>\n",
       "      <th>C_DMC</th>\n",
       "      <th>M_t</th>\n",
       "      <th>M_rh</th>\n",
       "      <th>M_wdSpd</th>\n",
       "      <th>C_prec</th>\n",
       "      <th>C_ISI</th>\n",
       "      <th>Size_bin</th>\n",
       "      <th>FIREMONTH</th>\n",
       "      <th>FIREDOW</th>\n",
       "    </tr>\n",
       "  </thead>\n",
       "  <tbody>\n",
       "    <tr>\n",
       "      <th>0</th>\n",
       "      <td>25.5</td>\n",
       "      <td>-80.67</td>\n",
       "      <td>20.0</td>\n",
       "      <td>Children</td>\n",
       "      <td>FL</td>\n",
       "      <td>-0.361201</td>\n",
       "      <td>-0.059067</td>\n",
       "      <td>-0.470423</td>\n",
       "      <td>-0.947182</td>\n",
       "      <td>1.343020</td>\n",
       "      <td>2.237352</td>\n",
       "      <td>-0.235184</td>\n",
       "      <td>-0.174926</td>\n",
       "      <td>10.0-99.9</td>\n",
       "      <td>Jan</td>\n",
       "      <td>Friday</td>\n",
       "    </tr>\n",
       "    <tr>\n",
       "      <th>1</th>\n",
       "      <td>25.5</td>\n",
       "      <td>-80.67</td>\n",
       "      <td>5.0</td>\n",
       "      <td>Missing/Undefined</td>\n",
       "      <td>FL</td>\n",
       "      <td>-0.356025</td>\n",
       "      <td>-0.051997</td>\n",
       "      <td>-0.461605</td>\n",
       "      <td>-1.458711</td>\n",
       "      <td>1.123583</td>\n",
       "      <td>1.337989</td>\n",
       "      <td>-0.273664</td>\n",
       "      <td>-0.423402</td>\n",
       "      <td>0.26-9.9</td>\n",
       "      <td>Jan</td>\n",
       "      <td>Saturday</td>\n",
       "    </tr>\n",
       "    <tr>\n",
       "      <th>2</th>\n",
       "      <td>25.5</td>\n",
       "      <td>-80.67</td>\n",
       "      <td>1.0</td>\n",
       "      <td>Equipment Use</td>\n",
       "      <td>FL</td>\n",
       "      <td>-0.288850</td>\n",
       "      <td>-0.032001</td>\n",
       "      <td>-0.439324</td>\n",
       "      <td>-0.299456</td>\n",
       "      <td>1.271743</td>\n",
       "      <td>0.789702</td>\n",
       "      <td>-0.273664</td>\n",
       "      <td>-0.493377</td>\n",
       "      <td>0.26-9.9</td>\n",
       "      <td>Jan</td>\n",
       "      <td>Monday</td>\n",
       "    </tr>\n",
       "    <tr>\n",
       "      <th>3</th>\n",
       "      <td>25.5</td>\n",
       "      <td>-80.67</td>\n",
       "      <td>0.4</td>\n",
       "      <td>Missing/Undefined</td>\n",
       "      <td>FL</td>\n",
       "      <td>-0.266764</td>\n",
       "      <td>-0.018903</td>\n",
       "      <td>-0.425589</td>\n",
       "      <td>-0.126858</td>\n",
       "      <td>1.308955</td>\n",
       "      <td>1.923439</td>\n",
       "      <td>-0.265389</td>\n",
       "      <td>-0.167025</td>\n",
       "      <td>0.26-9.9</td>\n",
       "      <td>Jan</td>\n",
       "      <td>Tuesday</td>\n",
       "    </tr>\n",
       "    <tr>\n",
       "      <th>4</th>\n",
       "      <td>25.5</td>\n",
       "      <td>-80.67</td>\n",
       "      <td>0.3</td>\n",
       "      <td>Missing/Undefined</td>\n",
       "      <td>FL</td>\n",
       "      <td>-0.261557</td>\n",
       "      <td>-0.005405</td>\n",
       "      <td>-0.414384</td>\n",
       "      <td>-0.038336</td>\n",
       "      <td>1.734917</td>\n",
       "      <td>-0.093289</td>\n",
       "      <td>-0.253926</td>\n",
       "      <td>-0.640104</td>\n",
       "      <td>0.26-9.9</td>\n",
       "      <td>Jan</td>\n",
       "      <td>Wednesday</td>\n",
       "    </tr>\n",
       "  </tbody>\n",
       "</table>\n",
       "</div>"
      ],
      "text/plain": [
       "   latround  lonround  FIRE_SIZE   STAT_CAUSE_DESCR STATE    C_FFMC      C_DC  \\\n",
       "0      25.5    -80.67       20.0           Children    FL -0.361201 -0.059067   \n",
       "1      25.5    -80.67        5.0  Missing/Undefined    FL -0.356025 -0.051997   \n",
       "2      25.5    -80.67        1.0      Equipment Use    FL -0.288850 -0.032001   \n",
       "3      25.5    -80.67        0.4  Missing/Undefined    FL -0.266764 -0.018903   \n",
       "4      25.5    -80.67        0.3  Missing/Undefined    FL -0.261557 -0.005405   \n",
       "\n",
       "      C_DMC       M_t      M_rh   M_wdSpd    C_prec     C_ISI   Size_bin  \\\n",
       "0 -0.470423 -0.947182  1.343020  2.237352 -0.235184 -0.174926  10.0-99.9   \n",
       "1 -0.461605 -1.458711  1.123583  1.337989 -0.273664 -0.423402   0.26-9.9   \n",
       "2 -0.439324 -0.299456  1.271743  0.789702 -0.273664 -0.493377   0.26-9.9   \n",
       "3 -0.425589 -0.126858  1.308955  1.923439 -0.265389 -0.167025   0.26-9.9   \n",
       "4 -0.414384 -0.038336  1.734917 -0.093289 -0.253926 -0.640104   0.26-9.9   \n",
       "\n",
       "  FIREMONTH    FIREDOW  \n",
       "0       Jan     Friday  \n",
       "1       Jan   Saturday  \n",
       "2       Jan     Monday  \n",
       "3       Jan    Tuesday  \n",
       "4       Jan  Wednesday  "
      ]
     },
     "execution_count": 342,
     "metadata": {},
     "output_type": "execute_result"
    }
   ],
   "source": [
    "firedata2=finaldata\n",
    "numeric = ['C_FFMC', 'C_DMC', 'C_DC', 'M_t', 'M_rh',  'M_wdSpd','C_prec','C_ISI']  \n",
    "scaler = StandardScaler()\n",
    "x = firedata2[numeric].values\n",
    "x_scaled = scaler.fit_transform(x)\n",
    "df_temp = pd.DataFrame(x_scaled, columns=numeric, index = firedata2.index)\n",
    "firedata2[numeric] = df_temp\n",
    "firedata2.head()\n"
   ]
  },
  {
   "cell_type": "code",
   "execution_count": 343,
   "metadata": {},
   "outputs": [
    {
     "data": {
      "text/html": [
       "<div>\n",
       "<style scoped>\n",
       "    .dataframe tbody tr th:only-of-type {\n",
       "        vertical-align: middle;\n",
       "    }\n",
       "\n",
       "    .dataframe tbody tr th {\n",
       "        vertical-align: top;\n",
       "    }\n",
       "\n",
       "    .dataframe thead th {\n",
       "        text-align: right;\n",
       "    }\n",
       "</style>\n",
       "<table border=\"1\" class=\"dataframe\">\n",
       "  <thead>\n",
       "    <tr style=\"text-align: right;\">\n",
       "      <th></th>\n",
       "      <th>latround</th>\n",
       "      <th>lonround</th>\n",
       "      <th>FIRE_SIZE</th>\n",
       "      <th>STAT_CAUSE_DESCR</th>\n",
       "      <th>STATE</th>\n",
       "      <th>C_FFMC</th>\n",
       "      <th>C_DC</th>\n",
       "      <th>C_DMC</th>\n",
       "      <th>M_t</th>\n",
       "      <th>M_rh</th>\n",
       "      <th>M_wdSpd</th>\n",
       "      <th>C_prec</th>\n",
       "      <th>C_ISI</th>\n",
       "      <th>Size_bin</th>\n",
       "      <th>FIREMONTH</th>\n",
       "      <th>FIREDOW</th>\n",
       "    </tr>\n",
       "  </thead>\n",
       "  <tbody>\n",
       "    <tr>\n",
       "      <th>0</th>\n",
       "      <td>25.5</td>\n",
       "      <td>-80.67</td>\n",
       "      <td>20.0</td>\n",
       "      <td>Children</td>\n",
       "      <td>FL</td>\n",
       "      <td>-0.361201</td>\n",
       "      <td>-0.059067</td>\n",
       "      <td>-0.470423</td>\n",
       "      <td>-0.947182</td>\n",
       "      <td>1.343020</td>\n",
       "      <td>2.237352</td>\n",
       "      <td>-0.235184</td>\n",
       "      <td>-0.174926</td>\n",
       "      <td>2</td>\n",
       "      <td>Jan</td>\n",
       "      <td>Friday</td>\n",
       "    </tr>\n",
       "    <tr>\n",
       "      <th>1</th>\n",
       "      <td>25.5</td>\n",
       "      <td>-80.67</td>\n",
       "      <td>5.0</td>\n",
       "      <td>Missing/Undefined</td>\n",
       "      <td>FL</td>\n",
       "      <td>-0.356025</td>\n",
       "      <td>-0.051997</td>\n",
       "      <td>-0.461605</td>\n",
       "      <td>-1.458711</td>\n",
       "      <td>1.123583</td>\n",
       "      <td>1.337989</td>\n",
       "      <td>-0.273664</td>\n",
       "      <td>-0.423402</td>\n",
       "      <td>1</td>\n",
       "      <td>Jan</td>\n",
       "      <td>Saturday</td>\n",
       "    </tr>\n",
       "    <tr>\n",
       "      <th>2</th>\n",
       "      <td>25.5</td>\n",
       "      <td>-80.67</td>\n",
       "      <td>1.0</td>\n",
       "      <td>Equipment Use</td>\n",
       "      <td>FL</td>\n",
       "      <td>-0.288850</td>\n",
       "      <td>-0.032001</td>\n",
       "      <td>-0.439324</td>\n",
       "      <td>-0.299456</td>\n",
       "      <td>1.271743</td>\n",
       "      <td>0.789702</td>\n",
       "      <td>-0.273664</td>\n",
       "      <td>-0.493377</td>\n",
       "      <td>1</td>\n",
       "      <td>Jan</td>\n",
       "      <td>Monday</td>\n",
       "    </tr>\n",
       "    <tr>\n",
       "      <th>3</th>\n",
       "      <td>25.5</td>\n",
       "      <td>-80.67</td>\n",
       "      <td>0.4</td>\n",
       "      <td>Missing/Undefined</td>\n",
       "      <td>FL</td>\n",
       "      <td>-0.266764</td>\n",
       "      <td>-0.018903</td>\n",
       "      <td>-0.425589</td>\n",
       "      <td>-0.126858</td>\n",
       "      <td>1.308955</td>\n",
       "      <td>1.923439</td>\n",
       "      <td>-0.265389</td>\n",
       "      <td>-0.167025</td>\n",
       "      <td>1</td>\n",
       "      <td>Jan</td>\n",
       "      <td>Tuesday</td>\n",
       "    </tr>\n",
       "    <tr>\n",
       "      <th>4</th>\n",
       "      <td>25.5</td>\n",
       "      <td>-80.67</td>\n",
       "      <td>0.3</td>\n",
       "      <td>Missing/Undefined</td>\n",
       "      <td>FL</td>\n",
       "      <td>-0.261557</td>\n",
       "      <td>-0.005405</td>\n",
       "      <td>-0.414384</td>\n",
       "      <td>-0.038336</td>\n",
       "      <td>1.734917</td>\n",
       "      <td>-0.093289</td>\n",
       "      <td>-0.253926</td>\n",
       "      <td>-0.640104</td>\n",
       "      <td>1</td>\n",
       "      <td>Jan</td>\n",
       "      <td>Wednesday</td>\n",
       "    </tr>\n",
       "  </tbody>\n",
       "</table>\n",
       "</div>"
      ],
      "text/plain": [
       "   latround  lonround  FIRE_SIZE   STAT_CAUSE_DESCR STATE    C_FFMC      C_DC  \\\n",
       "0      25.5    -80.67       20.0           Children    FL -0.361201 -0.059067   \n",
       "1      25.5    -80.67        5.0  Missing/Undefined    FL -0.356025 -0.051997   \n",
       "2      25.5    -80.67        1.0      Equipment Use    FL -0.288850 -0.032001   \n",
       "3      25.5    -80.67        0.4  Missing/Undefined    FL -0.266764 -0.018903   \n",
       "4      25.5    -80.67        0.3  Missing/Undefined    FL -0.261557 -0.005405   \n",
       "\n",
       "      C_DMC       M_t      M_rh   M_wdSpd    C_prec     C_ISI  Size_bin  \\\n",
       "0 -0.470423 -0.947182  1.343020  2.237352 -0.235184 -0.174926         2   \n",
       "1 -0.461605 -1.458711  1.123583  1.337989 -0.273664 -0.423402         1   \n",
       "2 -0.439324 -0.299456  1.271743  0.789702 -0.273664 -0.493377         1   \n",
       "3 -0.425589 -0.126858  1.308955  1.923439 -0.265389 -0.167025         1   \n",
       "4 -0.414384 -0.038336  1.734917 -0.093289 -0.253926 -0.640104         1   \n",
       "\n",
       "  FIREMONTH    FIREDOW  \n",
       "0       Jan     Friday  \n",
       "1       Jan   Saturday  \n",
       "2       Jan     Monday  \n",
       "3       Jan    Tuesday  \n",
       "4       Jan  Wednesday  "
      ]
     },
     "execution_count": 343,
     "metadata": {},
     "output_type": "execute_result"
    }
   ],
   "source": [
    "#Label encoding of output variable\n",
    "lbl = preprocessing.LabelEncoder()\n",
    "firedata2['Size_bin']= lbl.fit_transform(firedata2['Size_bin']) \n",
    "firedata2.head()"
   ]
  },
  {
   "cell_type": "code",
   "execution_count": 344,
   "metadata": {},
   "outputs": [],
   "source": [
    "from sklearn.preprocessing import OneHotEncoder\n",
    "onehotencoder = OneHotEncoder()\n",
    "#One hot encoding fire cause\n",
    "X = onehotencoder.fit_transform(firedata2.STAT_CAUSE_DESCR.values.reshape(-1,1)).toarray()\n",
    "feature_labels = onehotencoder.categories_\n",
    "feature_labels = np.array(feature_labels).ravel()\n",
    "X = pd.DataFrame(X, columns=feature_labels)\n",
    "X.head()\n",
    "firedata3 = pd.concat([firedata2, X], axis=1)\n",
    "\n",
    "\n",
    "#One hot encoding fire month\n",
    "X = onehotencoder.fit_transform(firedata2.FIREMONTH.values.reshape(-1,1)).toarray()\n",
    "feature_labels = onehotencoder.categories_\n",
    "feature_labels = np.array(feature_labels).ravel()\n",
    "X = pd.DataFrame(X, columns=feature_labels)\n",
    "X.head()\n",
    "firedata3 = pd.concat([firedata3, X], axis=1)\n",
    "\n",
    "#One hot encoding fire day of week\n",
    "X = onehotencoder.fit_transform(firedata2.FIREDOW.values.reshape(-1,1)).toarray()\n",
    "feature_labels = onehotencoder.categories_\n",
    "feature_labels = np.array(feature_labels).ravel()\n",
    "X = pd.DataFrame(X, columns=feature_labels)\n",
    "X.head()\n",
    "firedata3 = pd.concat([firedata3, X], axis=1)\n",
    "\n",
    "\n",
    "firedata3=firedata3.drop(['STATE','STAT_CAUSE_DESCR', 'FIREMONTH','FIREDOW','FIRE_SIZE'], axis=1)\n"
   ]
  },
  {
   "cell_type": "code",
   "execution_count": 345,
   "metadata": {},
   "outputs": [
    {
     "name": "stdout",
     "output_type": "stream",
     "text": [
      "<class 'pandas.core.frame.DataFrame'>\n",
      "RangeIndex: 94263 entries, 0 to 94262\n",
      "Data columns (total 43 columns):\n",
      " #   Column             Non-Null Count  Dtype  \n",
      "---  ------             --------------  -----  \n",
      " 0   latround           94263 non-null  float64\n",
      " 1   lonround           94263 non-null  float64\n",
      " 2   C_FFMC             94263 non-null  float64\n",
      " 3   C_DC               94263 non-null  float64\n",
      " 4   C_DMC              94263 non-null  float64\n",
      " 5   M_t                94263 non-null  float64\n",
      " 6   M_rh               94263 non-null  float64\n",
      " 7   M_wdSpd            94263 non-null  float64\n",
      " 8   C_prec             94263 non-null  float64\n",
      " 9   C_ISI              94263 non-null  float64\n",
      " 10  Size_bin           94263 non-null  int32  \n",
      " 11  Arson              94263 non-null  float64\n",
      " 12  Campfire           94263 non-null  float64\n",
      " 13  Children           94263 non-null  float64\n",
      " 14  Debris Burning     94263 non-null  float64\n",
      " 15  Equipment Use      94263 non-null  float64\n",
      " 16  Fireworks          94263 non-null  float64\n",
      " 17  Lightning          94263 non-null  float64\n",
      " 18  Miscellaneous      94263 non-null  float64\n",
      " 19  Missing/Undefined  94263 non-null  float64\n",
      " 20  Powerline          94263 non-null  float64\n",
      " 21  Railroad           94263 non-null  float64\n",
      " 22  Smoking            94263 non-null  float64\n",
      " 23  Structure          94263 non-null  float64\n",
      " 24  Apr                94263 non-null  float64\n",
      " 25  Aug                94263 non-null  float64\n",
      " 26  Dec                94263 non-null  float64\n",
      " 27  Feb                94263 non-null  float64\n",
      " 28  Jan                94263 non-null  float64\n",
      " 29  Jul                94263 non-null  float64\n",
      " 30  Jun                94263 non-null  float64\n",
      " 31  Mar                94263 non-null  float64\n",
      " 32  May                94263 non-null  float64\n",
      " 33  Nov                94263 non-null  float64\n",
      " 34  Oct                94263 non-null  float64\n",
      " 35  Sep                94263 non-null  float64\n",
      " 36  Friday             94263 non-null  float64\n",
      " 37  Monday             94263 non-null  float64\n",
      " 38  Saturday           94263 non-null  float64\n",
      " 39  Sunday             94263 non-null  float64\n",
      " 40  Thursday           94263 non-null  float64\n",
      " 41  Tuesday            94263 non-null  float64\n",
      " 42  Wednesday          94263 non-null  float64\n",
      "dtypes: float64(42), int32(1)\n",
      "memory usage: 30.6 MB\n"
     ]
    }
   ],
   "source": [
    "firedata3.info()"
   ]
  },
  {
   "cell_type": "code",
   "execution_count": 347,
   "metadata": {},
   "outputs": [],
   "source": [
    "#Using method 2 to split the data\n",
    "from sklearn.model_selection import train_test_split\n",
    "y1 = firedata3['Size_bin']\n",
    "X1 = firedata3.drop(['Size_bin'],axis=1)\n",
    "X_train1, X_test1, y_train1, y_test1 = train_test_split(X1, y1, test_size=0.30, random_state=52)\n"
   ]
  },
  {
   "cell_type": "code",
   "execution_count": 350,
   "metadata": {},
   "outputs": [],
   "source": [
    "# SVM\n",
    "from sklearn import svm\n",
    "svmclf = svm.SVC(kernel='rbf', degree=3, gamma='auto')         "
   ]
  },
  {
   "cell_type": "code",
   "execution_count": 351,
   "metadata": {},
   "outputs": [
    {
     "data": {
      "text/plain": [
       "SVC(C=1.0, break_ties=False, cache_size=200, class_weight=None, coef0=0.0,\n",
       "    decision_function_shape='ovr', degree=3, gamma='auto', kernel='rbf',\n",
       "    max_iter=-1, probability=False, random_state=None, shrinking=True,\n",
       "    tol=0.001, verbose=False)"
      ]
     },
     "execution_count": 351,
     "metadata": {},
     "output_type": "execute_result"
    }
   ],
   "source": [
    "svmclf.fit(X_train1,y_train1)"
   ]
  },
  {
   "cell_type": "code",
   "execution_count": 352,
   "metadata": {},
   "outputs": [],
   "source": [
    "y_predict2 = svmclf.predict(X_test1)"
   ]
  },
  {
   "cell_type": "code",
   "execution_count": 355,
   "metadata": {},
   "outputs": [
    {
     "name": "stdout",
     "output_type": "stream",
     "text": [
      "Confusion Matrix: \n",
      "\n",
      "[[ 5110  3274     0     0     2]\n",
      " [ 2199 12479     0     0    15]\n",
      " [  338  3691     0     0    11]\n",
      " [   99   493     0     0     6]\n",
      " [  201   353     0     0     8]]\n"
     ]
    }
   ],
   "source": [
    "CMsvm = confusion_matrix(y_test1, y_predict2)\n",
    "print(\"Confusion Matrix: \\n\")\n",
    "print(CMsvm)"
   ]
  },
  {
   "cell_type": "code",
   "execution_count": 356,
   "metadata": {},
   "outputs": [
    {
     "data": {
      "text/plain": [
       "62.22638707167864"
      ]
     },
     "execution_count": 356,
     "metadata": {},
     "output_type": "execute_result"
    }
   ],
   "source": [
    "accuracy_score(y_test1, y_predict2)*100"
   ]
  },
  {
   "cell_type": "code",
   "execution_count": 413,
   "metadata": {
    "scrolled": true
   },
   "outputs": [
    {
     "data": {
      "image/png": "[encoded data removed]",
      "text/plain": [
       "<Figure size 720x720 with 2 Axes>"
      ]
     },
     "metadata": {
      "needs_background": "light"
     },
     "output_type": "display_data"
    }
   ],
   "source": [
    "# Visualize it as a heatmap\n",
    "fig, ax = plt.subplots(figsize=(10,10))\n",
    "akws = {\"ha\": 'center',\"va\": 'center', \"size\": 16}\n",
    "sn.heatmap(CMsvm, fmt='', cmap=plt.cm.Blues, annot=True,annot_kws=akws, ax=ax,) \n",
    "plt.xlabel('Predicted fire class')\n",
    "plt.ylabel('Actual fire Class')\n",
    "plt.show()"
   ]
  },
  {
   "cell_type": "code",
   "execution_count": 361,
   "metadata": {},
   "outputs": [],
   "source": [
    "svmpoly = svm.SVC(kernel='poly',degree=3)\n",
    "svmpoly.fit(X_train1,y_train1)\n",
    "y_predict3 = svmpoly.predict(X_test1)"
   ]
  },
  {
   "cell_type": "code",
   "execution_count": 362,
   "metadata": {},
   "outputs": [
    {
     "name": "stdout",
     "output_type": "stream",
     "text": [
      "Confusion Matrix: \n",
      "\n",
      "[[ 3983  4403     0     0     0]\n",
      " [ 2275 12418     0     0     0]\n",
      " [  449  3591     0     0     0]\n",
      " [  142   456     0     0     0]\n",
      " [  238   324     0     0     0]]\n"
     ]
    }
   ],
   "source": [
    "CMsvmpoly = confusion_matrix(y_test1, y_predict3)\n",
    "print(\"Confusion Matrix: \\n\")\n",
    "print(CMsvmpoly)"
   ]
  },
  {
   "cell_type": "code",
   "execution_count": 363,
   "metadata": {},
   "outputs": [
    {
     "data": {
      "text/plain": [
       "57.99710032179356"
      ]
     },
     "execution_count": 363,
     "metadata": {},
     "output_type": "execute_result"
    }
   ],
   "source": [
    "accuracy_score(y_test1, y_predict3)*100"
   ]
  },
  {
   "cell_type": "code",
   "execution_count": 364,
   "metadata": {},
   "outputs": [],
   "source": [
    "svmlinear = svm.SVC(kernel='linear',degree=3)\n",
    "svmlinear.fit(X_train1,y_train1)\n",
    "y_predict4 = svmlinear.predict(X_test1)"
   ]
  },
  {
   "cell_type": "code",
   "execution_count": 365,
   "metadata": {},
   "outputs": [
    {
     "name": "stdout",
     "output_type": "stream",
     "text": [
      "Confusion Matrix: \n",
      "\n",
      "[[ 3105  5281     0     0     0]\n",
      " [ 1831 12862     0     0     0]\n",
      " [  620  3420     0     0     0]\n",
      " [  171   427     0     0     0]\n",
      " [  273   289     0     0     0]]\n"
     ]
    }
   ],
   "source": [
    "CMsvmlinear = confusion_matrix(y_test1, y_predict4)\n",
    "print(\"Confusion Matrix: \\n\")\n",
    "print(CMsvmlinear)"
   ]
  },
  {
   "cell_type": "code",
   "execution_count": 366,
   "metadata": {},
   "outputs": [
    {
     "data": {
      "text/plain": [
       "56.46239258813961"
      ]
     },
     "execution_count": 366,
     "metadata": {},
     "output_type": "execute_result"
    }
   ],
   "source": [
    "accuracy_score(y_test1, y_predict4)*100"
   ]
  },
  {
   "cell_type": "code",
   "execution_count": 369,
   "metadata": {},
   "outputs": [],
   "source": [
    "#Decision tree model with one hot encoded dataset\n",
    "from sklearn import tree\n",
    "from sklearn.tree import DecisionTreeClassifier\n",
    "model = tree.DecisionTreeClassifier()\n",
    "model = model.fit(X_train1,y_train1)"
   ]
  },
  {
   "cell_type": "code",
   "execution_count": 370,
   "metadata": {},
   "outputs": [
    {
     "data": {
      "text/plain": [
       "54.050709006683405"
      ]
     },
     "execution_count": 370,
     "metadata": {},
     "output_type": "execute_result"
    }
   ],
   "source": [
    "from sklearn.metrics import confusion_matrix\n",
    "from sklearn.metrics import accuracy_score\n",
    "y_predict5=model.predict(X_test1)\n",
    "confusion_matrix(y_test1,y_predict5)\n",
    "accuracy_score(y_test1, y_predict5)*100"
   ]
  },
  {
   "cell_type": "code",
   "execution_count": 372,
   "metadata": {},
   "outputs": [
    {
     "name": "stdout",
     "output_type": "stream",
     "text": [
      "[0.53174723 0.54068798 0.54493105 0.53841491 0.51788421 0.55259169\n",
      " 0.52576538 0.53576841 0.52985753 0.54410427]\n",
      "\n",
      "Accuracy: 0.54 (std 0.01)\n",
      "Confusion Matrix: \n",
      "\n",
      "[[11700  6401  1048   174   194]\n",
      " [ 7340 20882  4929   571   396]\n",
      " [ 1246  5457  2449   333   199]\n",
      " [  215   641   336   122    89]\n",
      " [  279   451   237   102   193]]\n"
     ]
    }
   ],
   "source": [
    "#Implement cross validation\n",
    "from sklearn.model_selection import cross_val_score\n",
    "scores1  = cross_val_score(model, X_train1, y_train1, cv=10, scoring=\"accuracy\")\n",
    "y_predict6 = cross_val_predict(model, X_train1, y_train1, cv=10)\n",
    "\n",
    "print(scores1)\n",
    "print(\"\\nAccuracy: %0.2f (std %0.2f)\" % (scores1.mean(), scores1.std()))\n",
    "\n",
    "CM = confusion_matrix(y_train1, y_predict6)\n",
    "print(\"Confusion Matrix: \\n\")\n",
    "print(CM)"
   ]
  },
  {
   "cell_type": "code",
   "execution_count": 373,
   "metadata": {},
   "outputs": [
    {
     "data": {
      "image/png": "[encoded data removed]",
      "text/plain": [
       "<Figure size 432x288 with 1 Axes>"
      ]
     },
     "metadata": {
      "needs_background": "light"
     },
     "output_type": "display_data"
    }
   ],
   "source": [
    "from sklearn.decomposition import PCA\n",
    "pca = PCA().fit(X_train1)\n",
    "percent_variance = np.round(pca.explained_variance_ratio_* 100, decimals =1)\n",
    "plt.plot(range(1,11), percent_variance[:10])\n",
    "plt.ylabel('Percentate of Variance Explained')\n",
    "plt.xlabel('Principal Component')\n",
    "plt.title('PCA Scree Plot')\n",
    "plt.xticks(range(1,11))\n",
    "plt.show()"
   ]
  },
  {
   "cell_type": "code",
   "execution_count": 374,
   "metadata": {},
   "outputs": [
    {
     "data": {
      "text/plain": [
       "array([85.4, 10.7,  1. ,  0.6,  0.5,  0.3,  0.2,  0.1,  0.1,  0.1,  0.1,\n",
       "        0.1,  0.1,  0.1,  0.1,  0.1,  0.1,  0.1,  0.1,  0.1,  0. ,  0. ,\n",
       "        0. ,  0. ,  0. ,  0. ,  0. ,  0. ,  0. ,  0. ,  0. ,  0. ,  0. ,\n",
       "        0. ,  0. ,  0. ,  0. ,  0. ,  0. ,  0. ,  0. ,  0. ])"
      ]
     },
     "execution_count": 374,
     "metadata": {},
     "output_type": "execute_result"
    }
   ],
   "source": [
    "percent_variance"
   ]
  },
  {
   "cell_type": "code",
   "execution_count": 375,
   "metadata": {},
   "outputs": [],
   "source": [
    "#Fitting the PCA algorithm with our Data\n",
    "pca_v3=PCA(n_components=2) \n",
    "pca_v3 = pca_v3.fit(X_train1)"
   ]
  },
  {
   "cell_type": "code",
   "execution_count": 376,
   "metadata": {},
   "outputs": [
    {
     "data": {
      "image/png": "[encoded data removed]",
      "text/plain": [
       "<Figure size 1152x144 with 2 Axes>"
      ]
     },
     "metadata": {
      "needs_background": "light"
     },
     "output_type": "display_data"
    }
   ],
   "source": [
    "plt.matshow(pca_v3.components_,cmap='viridis')\n",
    "plt.yticks([0,1],['PCA1','PCA2'],fontsize=10)\n",
    "plt.colorbar()\n",
    "plt.xticks(range(len(X_train1.columns)),X_train1.columns,rotation=65,ha='left')\n",
    "plt.show()"
   ]
  },
  {
   "cell_type": "code",
   "execution_count": 399,
   "metadata": {},
   "outputs": [],
   "source": [
    "input_file = \"C:/Users/prc0549/Documents/MS Analytics/ANLY 699/Data project/Datafinal.csv\" \n",
    "finaldata3 = pd.read_csv(input_file)"
   ]
  },
  {
   "cell_type": "code",
   "execution_count": 400,
   "metadata": {},
   "outputs": [
    {
     "name": "stdout",
     "output_type": "stream",
     "text": [
      "<class 'pandas.core.frame.DataFrame'>\n",
      "RangeIndex: 94263 entries, 0 to 94262\n",
      "Data columns (total 16 columns):\n",
      " #   Column            Non-Null Count  Dtype  \n",
      "---  ------            --------------  -----  \n",
      " 0   latround          94263 non-null  float64\n",
      " 1   lonround          94263 non-null  float64\n",
      " 2   FIRE_SIZE         94263 non-null  float64\n",
      " 3   STAT_CAUSE_DESCR  94263 non-null  object \n",
      " 4   STATE             94263 non-null  object \n",
      " 5   C_FFMC            94263 non-null  float64\n",
      " 6   C_DC              94263 non-null  float64\n",
      " 7   C_DMC             94263 non-null  float64\n",
      " 8   M_t               94263 non-null  float64\n",
      " 9   M_rh              94263 non-null  float64\n",
      " 10  M_wdSpd           94263 non-null  float64\n",
      " 11  C_prec            94263 non-null  float64\n",
      " 12  C_ISI             94263 non-null  float64\n",
      " 13  Size_bin          94263 non-null  object \n",
      " 14  FIREMONTH         94263 non-null  object \n",
      " 15  FIREDOW           94263 non-null  object \n",
      "dtypes: float64(11), object(5)\n",
      "memory usage: 11.5+ MB\n"
     ]
    }
   ],
   "source": [
    "finaldata3.info()"
   ]
  },
  {
   "cell_type": "code",
   "execution_count": 401,
   "metadata": {},
   "outputs": [
    {
     "data": {
      "text/html": [
       "<div>\n",
       "<style scoped>\n",
       "    .dataframe tbody tr th:only-of-type {\n",
       "        vertical-align: middle;\n",
       "    }\n",
       "\n",
       "    .dataframe tbody tr th {\n",
       "        vertical-align: top;\n",
       "    }\n",
       "\n",
       "    .dataframe thead th {\n",
       "        text-align: right;\n",
       "    }\n",
       "</style>\n",
       "<table border=\"1\" class=\"dataframe\">\n",
       "  <thead>\n",
       "    <tr style=\"text-align: right;\">\n",
       "      <th></th>\n",
       "      <th>latround</th>\n",
       "      <th>lonround</th>\n",
       "      <th>FIRE_SIZE</th>\n",
       "      <th>C_FFMC</th>\n",
       "      <th>C_DC</th>\n",
       "      <th>C_DMC</th>\n",
       "      <th>M_t</th>\n",
       "      <th>M_rh</th>\n",
       "      <th>M_wdSpd</th>\n",
       "      <th>C_prec</th>\n",
       "      <th>C_ISI</th>\n",
       "    </tr>\n",
       "  </thead>\n",
       "  <tbody>\n",
       "    <tr>\n",
       "      <th>count</th>\n",
       "      <td>94263.000000</td>\n",
       "      <td>94263.000000</td>\n",
       "      <td>94263.000000</td>\n",
       "      <td>94263.000000</td>\n",
       "      <td>94263.000000</td>\n",
       "      <td>94263.000000</td>\n",
       "      <td>94263.000000</td>\n",
       "      <td>94263.000000</td>\n",
       "      <td>94263.000000</td>\n",
       "      <td>9.426300e+04</td>\n",
       "      <td>9.426300e+04</td>\n",
       "    </tr>\n",
       "    <tr>\n",
       "      <th>mean</th>\n",
       "      <td>36.238227</td>\n",
       "      <td>-95.986424</td>\n",
       "      <td>100.037091</td>\n",
       "      <td>88.495085</td>\n",
       "      <td>299.530246</td>\n",
       "      <td>76.840284</td>\n",
       "      <td>25.407976</td>\n",
       "      <td>37.820333</td>\n",
       "      <td>10.986897</td>\n",
       "      <td>7.750812e-01</td>\n",
       "      <td>9.976701e+00</td>\n",
       "    </tr>\n",
       "    <tr>\n",
       "      <th>std</th>\n",
       "      <td>5.471606</td>\n",
       "      <td>14.184135</td>\n",
       "      <td>2977.660201</td>\n",
       "      <td>9.227274</td>\n",
       "      <td>312.857524</td>\n",
       "      <td>105.865439</td>\n",
       "      <td>7.866449</td>\n",
       "      <td>18.402139</td>\n",
       "      <td>7.131908</td>\n",
       "      <td>2.832254e+00</td>\n",
       "      <td>9.148738e+00</td>\n",
       "    </tr>\n",
       "    <tr>\n",
       "      <th>min</th>\n",
       "      <td>25.500000</td>\n",
       "      <td>-124.670000</td>\n",
       "      <td>0.000200</td>\n",
       "      <td>3.760347</td>\n",
       "      <td>0.195785</td>\n",
       "      <td>0.019820</td>\n",
       "      <td>1.873193</td>\n",
       "      <td>0.685971</td>\n",
       "      <td>0.052316</td>\n",
       "      <td>-1.247548e-14</td>\n",
       "      <td>4.513861e-08</td>\n",
       "    </tr>\n",
       "    <tr>\n",
       "      <th>25%</th>\n",
       "      <td>32.000000</td>\n",
       "      <td>-107.330000</td>\n",
       "      <td>0.200000</td>\n",
       "      <td>86.576370</td>\n",
       "      <td>51.734310</td>\n",
       "      <td>18.241415</td>\n",
       "      <td>19.385580</td>\n",
       "      <td>23.755875</td>\n",
       "      <td>5.910426</td>\n",
       "      <td>0.000000e+00</td>\n",
       "      <td>4.358532e+00</td>\n",
       "    </tr>\n",
       "    <tr>\n",
       "      <th>50%</th>\n",
       "      <td>34.500000</td>\n",
       "      <td>-94.000000</td>\n",
       "      <td>1.000000</td>\n",
       "      <td>90.079610</td>\n",
       "      <td>210.646300</td>\n",
       "      <td>39.734500</td>\n",
       "      <td>25.552550</td>\n",
       "      <td>35.612110</td>\n",
       "      <td>9.286214</td>\n",
       "      <td>0.000000e+00</td>\n",
       "      <td>7.315162e+00</td>\n",
       "    </tr>\n",
       "    <tr>\n",
       "      <th>75%</th>\n",
       "      <td>40.500000</td>\n",
       "      <td>-84.000000</td>\n",
       "      <td>5.000000</td>\n",
       "      <td>93.894375</td>\n",
       "      <td>451.766700</td>\n",
       "      <td>89.847340</td>\n",
       "      <td>31.479970</td>\n",
       "      <td>49.331080</td>\n",
       "      <td>14.200800</td>\n",
       "      <td>2.155044e-01</td>\n",
       "      <td>1.299556e+01</td>\n",
       "    </tr>\n",
       "    <tr>\n",
       "      <th>max</th>\n",
       "      <td>49.000000</td>\n",
       "      <td>-67.330000</td>\n",
       "      <td>479549.000000</td>\n",
       "      <td>100.552000</td>\n",
       "      <td>2799.314000</td>\n",
       "      <td>1189.231000</td>\n",
       "      <td>49.666740</td>\n",
       "      <td>99.084690</td>\n",
       "      <td>53.923800</td>\n",
       "      <td>1.021282e+02</td>\n",
       "      <td>1.080923e+02</td>\n",
       "    </tr>\n",
       "  </tbody>\n",
       "</table>\n",
       "</div>"
      ],
      "text/plain": [
       "           latround      lonround      FIRE_SIZE        C_FFMC          C_DC  \\\n",
       "count  94263.000000  94263.000000   94263.000000  94263.000000  94263.000000   \n",
       "mean      36.238227    -95.986424     100.037091     88.495085    299.530246   \n",
       "std        5.471606     14.184135    2977.660201      9.227274    312.857524   \n",
       "min       25.500000   -124.670000       0.000200      3.760347      0.195785   \n",
       "25%       32.000000   -107.330000       0.200000     86.576370     51.734310   \n",
       "50%       34.500000    -94.000000       1.000000     90.079610    210.646300   \n",
       "75%       40.500000    -84.000000       5.000000     93.894375    451.766700   \n",
       "max       49.000000    -67.330000  479549.000000    100.552000   2799.314000   \n",
       "\n",
       "              C_DMC           M_t          M_rh       M_wdSpd        C_prec  \\\n",
       "count  94263.000000  94263.000000  94263.000000  94263.000000  9.426300e+04   \n",
       "mean      76.840284     25.407976     37.820333     10.986897  7.750812e-01   \n",
       "std      105.865439      7.866449     18.402139      7.131908  2.832254e+00   \n",
       "min        0.019820      1.873193      0.685971      0.052316 -1.247548e-14   \n",
       "25%       18.241415     19.385580     23.755875      5.910426  0.000000e+00   \n",
       "50%       39.734500     25.552550     35.612110      9.286214  0.000000e+00   \n",
       "75%       89.847340     31.479970     49.331080     14.200800  2.155044e-01   \n",
       "max     1189.231000     49.666740     99.084690     53.923800  1.021282e+02   \n",
       "\n",
       "              C_ISI  \n",
       "count  9.426300e+04  \n",
       "mean   9.976701e+00  \n",
       "std    9.148738e+00  \n",
       "min    4.513861e-08  \n",
       "25%    4.358532e+00  \n",
       "50%    7.315162e+00  \n",
       "75%    1.299556e+01  \n",
       "max    1.080923e+02  "
      ]
     },
     "execution_count": 401,
     "metadata": {},
     "output_type": "execute_result"
    }
   ],
   "source": [
    "finaldata3.describe()"
   ]
  },
  {
   "cell_type": "code",
   "execution_count": 402,
   "metadata": {},
   "outputs": [
    {
     "name": "stdout",
     "output_type": "stream",
     "text": [
      "<class 'pandas.core.frame.DataFrame'>\n",
      "RangeIndex: 94263 entries, 0 to 94262\n",
      "Data columns (total 16 columns):\n",
      " #   Column            Non-Null Count  Dtype  \n",
      "---  ------            --------------  -----  \n",
      " 0   latround          94263 non-null  float64\n",
      " 1   lonround          94263 non-null  float64\n",
      " 2   FIRE_SIZE         94263 non-null  float64\n",
      " 3   STAT_CAUSE_DESCR  94263 non-null  int64  \n",
      " 4   STATE             94263 non-null  object \n",
      " 5   C_FFMC            94263 non-null  float64\n",
      " 6   C_DC              94263 non-null  float64\n",
      " 7   C_DMC             94263 non-null  float64\n",
      " 8   M_t               94263 non-null  float64\n",
      " 9   M_rh              94263 non-null  float64\n",
      " 10  M_wdSpd           94263 non-null  float64\n",
      " 11  C_prec            94263 non-null  float64\n",
      " 12  C_ISI             94263 non-null  float64\n",
      " 13  Size_bin          94263 non-null  int64  \n",
      " 14  FIREMONTH         94263 non-null  int64  \n",
      " 15  FIREDOW           94263 non-null  int64  \n",
      "dtypes: float64(11), int64(4), object(1)\n",
      "memory usage: 11.5+ MB\n"
     ]
    }
   ],
   "source": [
    "#Label encoding of categorical variables\n",
    "cols = ['STAT_CAUSE_DESCR', 'Size_bin', 'FIREMONTH','FIREDOW']\n",
    "for col in cols:\n",
    "    lbl = preprocessing.LabelEncoder()\n",
    "    lbl.fit(list(finaldata3[col].values.astype('str')))\n",
    "    finaldata3[col] = lbl.transform(list(finaldata3[col].values.astype('str')))\n",
    "finaldata3.info()"
   ]
  },
  {
   "cell_type": "code",
   "execution_count": 403,
   "metadata": {},
   "outputs": [],
   "source": [
    "#Using method 2 to split the data\n",
    "from sklearn.model_selection import train_test_split\n",
    "y4 = finaldata3['Size_bin']\n",
    "X4 = finaldata3.drop(['Size_bin','FIRE_SIZE','STATE'],axis=1)\n",
    "X_train4, X_test4, y_train4, y_test4 = train_test_split(X4, y4, test_size=0.30, random_state=52)"
   ]
  },
  {
   "cell_type": "code",
   "execution_count": 404,
   "metadata": {},
   "outputs": [
    {
     "data": {
      "image/png": "[encoded data removed]",
      "text/plain": [
       "<Figure size 432x288 with 1 Axes>"
      ]
     },
     "metadata": {
      "needs_background": "light"
     },
     "output_type": "display_data"
    }
   ],
   "source": [
    "from sklearn.decomposition import PCA\n",
    "pca4 = PCA().fit(X_train4)\n",
    "percent_variance = np.round(pca4.explained_variance_ratio_* 100, decimals =1)\n",
    "plt.plot(range(1,11), percent_variance[:10])\n",
    "plt.ylabel('Percentate of Variance Explained')\n",
    "plt.xlabel('Principal Component')\n",
    "plt.title('PCA Scree Plot')\n",
    "plt.xticks(range(1,11))\n",
    "plt.show()"
   ]
  },
  {
   "cell_type": "code",
   "execution_count": 405,
   "metadata": {},
   "outputs": [
    {
     "data": {
      "text/plain": [
       "array([94.6,  4.8,  0.3,  0.1,  0.1,  0.1,  0. ,  0. ,  0. ,  0. ,  0. ,\n",
       "        0. ,  0. ])"
      ]
     },
     "execution_count": 405,
     "metadata": {},
     "output_type": "execute_result"
    }
   ],
   "source": [
    "percent_variance"
   ]
  },
  {
   "cell_type": "code",
   "execution_count": 406,
   "metadata": {},
   "outputs": [],
   "source": [
    "#Fitting the PCA algorithm with our Data\n",
    "pca_v3=PCA(n_components=2) \n",
    "pca_v3 = pca_v3.fit(X_train4)"
   ]
  },
  {
   "cell_type": "code",
   "execution_count": 407,
   "metadata": {},
   "outputs": [
    {
     "data": {
      "image/png": "[encoded data removed]",
      "text/plain": [
       "<Figure size 1152x177.231 with 2 Axes>"
      ]
     },
     "metadata": {
      "needs_background": "light"
     },
     "output_type": "display_data"
    }
   ],
   "source": [
    "plt.matshow(pca_v3.components_,cmap='viridis')\n",
    "plt.yticks([0,1],['PCA1','PCA2'],fontsize=10)\n",
    "plt.colorbar()\n",
    "plt.xticks(range(len(X_train4.columns)),X_train4.columns,rotation=65,ha='left')\n",
    "plt.show()"
   ]
  },
  {
   "cell_type": "code",
   "execution_count": 408,
   "metadata": {},
   "outputs": [
    {
     "name": "stdout",
     "output_type": "stream",
     "text": [
      "[[ 5238  2981   129    16    22]\n",
      " [ 2413 11208   949    64    59]\n",
      " [  351  2907   673    58    51]\n",
      " [   78   348   108    25    39]\n",
      " [  141   243    66    30    82]]\n",
      "60.914459492909934\n"
     ]
    }
   ],
   "source": [
    "from sklearn.ensemble import RandomForestClassifier\n",
    "clf = RandomForestClassifier() \n",
    "clf.fit(X_train1, y_train1) \n",
    "y_predict5 = clf.predict(X_test1) \n",
    "print(confusion_matrix(y_test1, y_predict5)) \n",
    "print(accuracy_score(y_test1, y_predict5)*100)"
   ]
  },
  {
   "cell_type": "code",
   "execution_count": 409,
   "metadata": {},
   "outputs": [
    {
     "data": {
      "text/html": [
       "<div>\n",
       "<style scoped>\n",
       "    .dataframe tbody tr th:only-of-type {\n",
       "        vertical-align: middle;\n",
       "    }\n",
       "\n",
       "    .dataframe tbody tr th {\n",
       "        vertical-align: top;\n",
       "    }\n",
       "\n",
       "    .dataframe thead th {\n",
       "        text-align: right;\n",
       "    }\n",
       "</style>\n",
       "<table border=\"1\" class=\"dataframe\">\n",
       "  <thead>\n",
       "    <tr style=\"text-align: right;\">\n",
       "      <th></th>\n",
       "      <th>importance</th>\n",
       "    </tr>\n",
       "  </thead>\n",
       "  <tbody>\n",
       "    <tr>\n",
       "      <th>lonround</th>\n",
       "      <td>0.114544</td>\n",
       "    </tr>\n",
       "    <tr>\n",
       "      <th>latround</th>\n",
       "      <td>0.097230</td>\n",
       "    </tr>\n",
       "    <tr>\n",
       "      <th>C_DC</th>\n",
       "      <td>0.086473</td>\n",
       "    </tr>\n",
       "    <tr>\n",
       "      <th>C_DMC</th>\n",
       "      <td>0.083768</td>\n",
       "    </tr>\n",
       "    <tr>\n",
       "      <th>M_t</th>\n",
       "      <td>0.080626</td>\n",
       "    </tr>\n",
       "    <tr>\n",
       "      <th>M_wdSpd</th>\n",
       "      <td>0.078755</td>\n",
       "    </tr>\n",
       "    <tr>\n",
       "      <th>M_rh</th>\n",
       "      <td>0.078651</td>\n",
       "    </tr>\n",
       "    <tr>\n",
       "      <th>C_ISI</th>\n",
       "      <td>0.078249</td>\n",
       "    </tr>\n",
       "    <tr>\n",
       "      <th>C_FFMC</th>\n",
       "      <td>0.076687</td>\n",
       "    </tr>\n",
       "    <tr>\n",
       "      <th>C_prec</th>\n",
       "      <td>0.040629</td>\n",
       "    </tr>\n",
       "    <tr>\n",
       "      <th>Lightning</th>\n",
       "      <td>0.013446</td>\n",
       "    </tr>\n",
       "    <tr>\n",
       "      <th>Debris Burning</th>\n",
       "      <td>0.010583</td>\n",
       "    </tr>\n",
       "    <tr>\n",
       "      <th>Miscellaneous</th>\n",
       "      <td>0.009992</td>\n",
       "    </tr>\n",
       "    <tr>\n",
       "      <th>Arson</th>\n",
       "      <td>0.009403</td>\n",
       "    </tr>\n",
       "    <tr>\n",
       "      <th>Wednesday</th>\n",
       "      <td>0.008976</td>\n",
       "    </tr>\n",
       "    <tr>\n",
       "      <th>Tuesday</th>\n",
       "      <td>0.008808</td>\n",
       "    </tr>\n",
       "    <tr>\n",
       "      <th>Monday</th>\n",
       "      <td>0.008792</td>\n",
       "    </tr>\n",
       "    <tr>\n",
       "      <th>Friday</th>\n",
       "      <td>0.008652</td>\n",
       "    </tr>\n",
       "    <tr>\n",
       "      <th>Sunday</th>\n",
       "      <td>0.008620</td>\n",
       "    </tr>\n",
       "    <tr>\n",
       "      <th>Thursday</th>\n",
       "      <td>0.008615</td>\n",
       "    </tr>\n",
       "    <tr>\n",
       "      <th>Saturday</th>\n",
       "      <td>0.008492</td>\n",
       "    </tr>\n",
       "    <tr>\n",
       "      <th>Equipment Use</th>\n",
       "      <td>0.007903</td>\n",
       "    </tr>\n",
       "    <tr>\n",
       "      <th>Apr</th>\n",
       "      <td>0.007825</td>\n",
       "    </tr>\n",
       "    <tr>\n",
       "      <th>Jul</th>\n",
       "      <td>0.006331</td>\n",
       "    </tr>\n",
       "    <tr>\n",
       "      <th>Jun</th>\n",
       "      <td>0.005920</td>\n",
       "    </tr>\n",
       "    <tr>\n",
       "      <th>May</th>\n",
       "      <td>0.005177</td>\n",
       "    </tr>\n",
       "    <tr>\n",
       "      <th>Aug</th>\n",
       "      <td>0.005100</td>\n",
       "    </tr>\n",
       "    <tr>\n",
       "      <th>Missing/Undefined</th>\n",
       "      <td>0.005041</td>\n",
       "    </tr>\n",
       "    <tr>\n",
       "      <th>Mar</th>\n",
       "      <td>0.004765</td>\n",
       "    </tr>\n",
       "    <tr>\n",
       "      <th>Campfire</th>\n",
       "      <td>0.004710</td>\n",
       "    </tr>\n",
       "    <tr>\n",
       "      <th>Children</th>\n",
       "      <td>0.003669</td>\n",
       "    </tr>\n",
       "    <tr>\n",
       "      <th>Smoking</th>\n",
       "      <td>0.003501</td>\n",
       "    </tr>\n",
       "    <tr>\n",
       "      <th>Jan</th>\n",
       "      <td>0.003384</td>\n",
       "    </tr>\n",
       "    <tr>\n",
       "      <th>Sep</th>\n",
       "      <td>0.003261</td>\n",
       "    </tr>\n",
       "    <tr>\n",
       "      <th>Oct</th>\n",
       "      <td>0.002898</td>\n",
       "    </tr>\n",
       "    <tr>\n",
       "      <th>Feb</th>\n",
       "      <td>0.002293</td>\n",
       "    </tr>\n",
       "    <tr>\n",
       "      <th>Nov</th>\n",
       "      <td>0.002198</td>\n",
       "    </tr>\n",
       "    <tr>\n",
       "      <th>Dec</th>\n",
       "      <td>0.001749</td>\n",
       "    </tr>\n",
       "    <tr>\n",
       "      <th>Fireworks</th>\n",
       "      <td>0.001740</td>\n",
       "    </tr>\n",
       "    <tr>\n",
       "      <th>Railroad</th>\n",
       "      <td>0.001687</td>\n",
       "    </tr>\n",
       "    <tr>\n",
       "      <th>Powerline</th>\n",
       "      <td>0.000739</td>\n",
       "    </tr>\n",
       "    <tr>\n",
       "      <th>Structure</th>\n",
       "      <td>0.000120</td>\n",
       "    </tr>\n",
       "  </tbody>\n",
       "</table>\n",
       "</div>"
      ],
      "text/plain": [
       "                   importance\n",
       "lonround             0.114544\n",
       "latround             0.097230\n",
       "C_DC                 0.086473\n",
       "C_DMC                0.083768\n",
       "M_t                  0.080626\n",
       "M_wdSpd              0.078755\n",
       "M_rh                 0.078651\n",
       "C_ISI                0.078249\n",
       "C_FFMC               0.076687\n",
       "C_prec               0.040629\n",
       "Lightning            0.013446\n",
       "Debris Burning       0.010583\n",
       "Miscellaneous        0.009992\n",
       "Arson                0.009403\n",
       "Wednesday            0.008976\n",
       "Tuesday              0.008808\n",
       "Monday               0.008792\n",
       "Friday               0.008652\n",
       "Sunday               0.008620\n",
       "Thursday             0.008615\n",
       "Saturday             0.008492\n",
       "Equipment Use        0.007903\n",
       "Apr                  0.007825\n",
       "Jul                  0.006331\n",
       "Jun                  0.005920\n",
       "May                  0.005177\n",
       "Aug                  0.005100\n",
       "Missing/Undefined    0.005041\n",
       "Mar                  0.004765\n",
       "Campfire             0.004710\n",
       "Children             0.003669\n",
       "Smoking              0.003501\n",
       "Jan                  0.003384\n",
       "Sep                  0.003261\n",
       "Oct                  0.002898\n",
       "Feb                  0.002293\n",
       "Nov                  0.002198\n",
       "Dec                  0.001749\n",
       "Fireworks            0.001740\n",
       "Railroad             0.001687\n",
       "Powerline            0.000739\n",
       "Structure            0.000120"
      ]
     },
     "execution_count": 409,
     "metadata": {},
     "output_type": "execute_result"
    }
   ],
   "source": [
    "#Calculating the feature importance in Python\n",
    "feature_importances = pd.DataFrame(clf.feature_importances_,\n",
    "                                   index = X_train1.columns,\n",
    "                                    columns=['importance']).sort_values('importance',ascending=False)\n",
    "feature_importances"
   ]
  },
  {
   "cell_type": "code",
   "execution_count": 410,
   "metadata": {},
   "outputs": [
    {
     "data": {
      "text/plain": [
       "'C:\\\\Users\\\\prc0549'"
      ]
     },
     "execution_count": 410,
     "metadata": {},
     "output_type": "execute_result"
    }
   ],
   "source": [
    "os.getcwd()"
   ]
  },
  {
   "cell_type": "code",
   "execution_count": null,
   "metadata": {},
   "outputs": [],
   "source": []
  }
 ],
 "metadata": {
  "kernelspec": {
   "display_name": "Python 3",
   "language": "python",
   "name": "python3"
  },
  "language_info": {
   "codemirror_mode": {
    "name": "ipython",
    "version": 3
   },
   "file_extension": ".py",
   "mimetype": "text/x-python",
   "name": "python",
   "nbconvert_exporter": "python",
   "pygments_lexer": "ipython3",
   "version": "3.7.7"
  }
 },
 "nbformat": 4,
 "nbformat_minor": 4
}
